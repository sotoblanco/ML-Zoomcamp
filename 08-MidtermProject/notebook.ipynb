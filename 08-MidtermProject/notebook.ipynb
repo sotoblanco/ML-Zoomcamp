{
 "cells": [
  {
   "cell_type": "code",
   "execution_count": 1,
   "metadata": {},
   "outputs": [],
   "source": [
    "import pandas as pd"
   ]
  },
  {
   "cell_type": "code",
   "execution_count": 11,
   "metadata": {},
   "outputs": [],
   "source": [
    "df = pd.read_csv(\"data/BTC_feature_data.csv\", index_col=\"Unnamed: 0\", parse_dates=True)"
   ]
  },
  {
   "cell_type": "code",
   "execution_count": 6,
   "metadata": {},
   "outputs": [
    {
     "data": {
      "text/html": [
       "<div>\n",
       "<style scoped>\n",
       "    .dataframe tbody tr th:only-of-type {\n",
       "        vertical-align: middle;\n",
       "    }\n",
       "\n",
       "    .dataframe tbody tr th {\n",
       "        vertical-align: top;\n",
       "    }\n",
       "\n",
       "    .dataframe thead th {\n",
       "        text-align: right;\n",
       "    }\n",
       "</style>\n",
       "<table border=\"1\" class=\"dataframe\">\n",
       "  <thead>\n",
       "    <tr style=\"text-align: right;\">\n",
       "      <th></th>\n",
       "      <th>phigh_day_touch</th>\n",
       "      <th>plow_day_touch</th>\n",
       "      <th>phigh_night_touch</th>\n",
       "      <th>plow_night_touch</th>\n",
       "      <th>ret_distance_phigh_day_open</th>\n",
       "      <th>ret_distance_plow_day_open</th>\n",
       "      <th>ret_distance_phigh_night_open</th>\n",
       "      <th>ret_distance_plow_night_open</th>\n",
       "    </tr>\n",
       "  </thead>\n",
       "  <tbody>\n",
       "    <tr>\n",
       "      <th>2017-08-17</th>\n",
       "      <td>0</td>\n",
       "      <td>0</td>\n",
       "      <td>0</td>\n",
       "      <td>0</td>\n",
       "      <td>-0.003549</td>\n",
       "      <td>0.036527</td>\n",
       "      <td>-0.003967</td>\n",
       "      <td>0.053105</td>\n",
       "    </tr>\n",
       "    <tr>\n",
       "      <th>2017-08-18</th>\n",
       "      <td>0</td>\n",
       "      <td>1</td>\n",
       "      <td>0</td>\n",
       "      <td>1</td>\n",
       "      <td>-0.011031</td>\n",
       "      <td>0.079103</td>\n",
       "      <td>0.015688</td>\n",
       "      <td>0.103984</td>\n",
       "    </tr>\n",
       "    <tr>\n",
       "      <th>2017-08-19</th>\n",
       "      <td>0</td>\n",
       "      <td>0</td>\n",
       "      <td>0</td>\n",
       "      <td>0</td>\n",
       "      <td>-0.039757</td>\n",
       "      <td>0.002082</td>\n",
       "      <td>-0.053687</td>\n",
       "      <td>-0.011809</td>\n",
       "    </tr>\n",
       "    <tr>\n",
       "      <th>2017-08-20</th>\n",
       "      <td>1</td>\n",
       "      <td>0</td>\n",
       "      <td>0</td>\n",
       "      <td>0</td>\n",
       "      <td>-0.013015</td>\n",
       "      <td>0.016905</td>\n",
       "      <td>0.004034</td>\n",
       "      <td>0.056156</td>\n",
       "    </tr>\n",
       "    <tr>\n",
       "      <th>2017-08-21</th>\n",
       "      <td>0</td>\n",
       "      <td>1</td>\n",
       "      <td>0</td>\n",
       "      <td>1</td>\n",
       "      <td>-0.012406</td>\n",
       "      <td>0.060697</td>\n",
       "      <td>0.007486</td>\n",
       "      <td>0.182350</td>\n",
       "    </tr>\n",
       "  </tbody>\n",
       "</table>\n",
       "</div>"
      ],
      "text/plain": [
       "            phigh_day_touch  plow_day_touch  phigh_night_touch  \\\n",
       "2017-08-17                0               0                  0   \n",
       "2017-08-18                0               1                  0   \n",
       "2017-08-19                0               0                  0   \n",
       "2017-08-20                1               0                  0   \n",
       "2017-08-21                0               1                  0   \n",
       "\n",
       "            plow_night_touch  ret_distance_phigh_day_open  \\\n",
       "2017-08-17                 0                    -0.003549   \n",
       "2017-08-18                 1                    -0.011031   \n",
       "2017-08-19                 0                    -0.039757   \n",
       "2017-08-20                 0                    -0.013015   \n",
       "2017-08-21                 1                    -0.012406   \n",
       "\n",
       "            ret_distance_plow_day_open  ret_distance_phigh_night_open  \\\n",
       "2017-08-17                    0.036527                      -0.003967   \n",
       "2017-08-18                    0.079103                       0.015688   \n",
       "2017-08-19                    0.002082                      -0.053687   \n",
       "2017-08-20                    0.016905                       0.004034   \n",
       "2017-08-21                    0.060697                       0.007486   \n",
       "\n",
       "            ret_distance_plow_night_open  \n",
       "2017-08-17                      0.053105  \n",
       "2017-08-18                      0.103984  \n",
       "2017-08-19                     -0.011809  \n",
       "2017-08-20                      0.056156  \n",
       "2017-08-21                      0.182350  "
      ]
     },
     "execution_count": 6,
     "metadata": {},
     "output_type": "execute_result"
    }
   ],
   "source": [
    "df.head()"
   ]
  },
  {
   "cell_type": "markdown",
   "metadata": {},
   "source": [
    "Since we treat every row as an independent event we reset the index"
   ]
  },
  {
   "cell_type": "code",
   "execution_count": 18,
   "metadata": {},
   "outputs": [],
   "source": [
    "df.reset_index(inplace=True, drop=True)"
   ]
  },
  {
   "cell_type": "code",
   "execution_count": 20,
   "metadata": {},
   "outputs": [
    {
     "data": {
      "text/html": [
       "<div>\n",
       "<style scoped>\n",
       "    .dataframe tbody tr th:only-of-type {\n",
       "        vertical-align: middle;\n",
       "    }\n",
       "\n",
       "    .dataframe tbody tr th {\n",
       "        vertical-align: top;\n",
       "    }\n",
       "\n",
       "    .dataframe thead th {\n",
       "        text-align: right;\n",
       "    }\n",
       "</style>\n",
       "<table border=\"1\" class=\"dataframe\">\n",
       "  <thead>\n",
       "    <tr style=\"text-align: right;\">\n",
       "      <th></th>\n",
       "      <th>phigh_day_touch</th>\n",
       "      <th>plow_day_touch</th>\n",
       "      <th>phigh_night_touch</th>\n",
       "      <th>plow_night_touch</th>\n",
       "      <th>ret_distance_phigh_day_open</th>\n",
       "      <th>ret_distance_plow_day_open</th>\n",
       "      <th>ret_distance_phigh_night_open</th>\n",
       "      <th>ret_distance_plow_night_open</th>\n",
       "    </tr>\n",
       "  </thead>\n",
       "  <tbody>\n",
       "    <tr>\n",
       "      <th>0</th>\n",
       "      <td>0</td>\n",
       "      <td>0</td>\n",
       "      <td>0</td>\n",
       "      <td>0</td>\n",
       "      <td>-0.003549</td>\n",
       "      <td>0.036527</td>\n",
       "      <td>-0.003967</td>\n",
       "      <td>0.053105</td>\n",
       "    </tr>\n",
       "    <tr>\n",
       "      <th>1</th>\n",
       "      <td>0</td>\n",
       "      <td>1</td>\n",
       "      <td>0</td>\n",
       "      <td>1</td>\n",
       "      <td>-0.011031</td>\n",
       "      <td>0.079103</td>\n",
       "      <td>0.015688</td>\n",
       "      <td>0.103984</td>\n",
       "    </tr>\n",
       "  </tbody>\n",
       "</table>\n",
       "</div>"
      ],
      "text/plain": [
       "   phigh_day_touch  plow_day_touch  phigh_night_touch  plow_night_touch  \\\n",
       "0                0               0                  0                 0   \n",
       "1                0               1                  0                 1   \n",
       "\n",
       "   ret_distance_phigh_day_open  ret_distance_plow_day_open  \\\n",
       "0                    -0.003549                    0.036527   \n",
       "1                    -0.011031                    0.079103   \n",
       "\n",
       "   ret_distance_phigh_night_open  ret_distance_plow_night_open  \n",
       "0                      -0.003967                      0.053105  \n",
       "1                       0.015688                      0.103984  "
      ]
     },
     "execution_count": 20,
     "metadata": {},
     "output_type": "execute_result"
    }
   ],
   "source": [
    "df.head(2)"
   ]
  },
  {
   "cell_type": "code",
   "execution_count": 11,
   "metadata": {},
   "outputs": [
    {
     "name": "stdout",
     "output_type": "stream",
     "text": [
      "phigh_day_touch\n",
      "[0 1]\n",
      "2\n",
      "\n",
      "plow_day_touch\n",
      "[0 1]\n",
      "2\n",
      "\n",
      "phigh_night_touch\n",
      "[0 1]\n",
      "2\n",
      "\n",
      "plow_night_touch\n",
      "[0 1]\n",
      "2\n",
      "\n",
      "ret_distance_phigh_day_open\n",
      "[-0.00354945 -0.01103135 -0.03975672 -0.013015   -0.01240637]\n",
      "1875\n",
      "\n",
      "ret_distance_plow_day_open\n",
      "[0.0365269  0.07910337 0.00208212 0.01690468 0.06069737]\n",
      "1871\n",
      "\n",
      "ret_distance_phigh_night_open\n",
      "[-0.00396658  0.01568814 -0.05368694  0.00403416  0.00748599]\n",
      "1875\n",
      "\n",
      "ret_distance_plow_night_open\n",
      "[ 0.05310537  0.10398442 -0.0118087   0.05615588  0.18235   ]\n",
      "1875\n",
      "\n"
     ]
    }
   ],
   "source": [
    "for col in df.columns:\n",
    "\tprint(col)\n",
    "\tprint(df[col].unique()[:5])\n",
    "\tprint(df[col].nunique())\n",
    "\tprint()"
   ]
  },
  {
   "cell_type": "markdown",
   "metadata": {},
   "source": [
    "## EDA\n",
    "- Ranges of values\n",
    "- Missing values\n",
    "- Analysis of the target variable\n",
    "- Feature importance analysis"
   ]
  },
  {
   "cell_type": "code",
   "execution_count": 4,
   "metadata": {},
   "outputs": [],
   "source": [
    "categorical = [\"phigh_day_touch\", \"plow_day_touch\",\"phigh_night_touch\", \"plow_night_touch\"]\n",
    "\n",
    "numerical = [\"ret_distance_phigh_day_open\", \"ret_distance_plow_day_open\", \n",
    "            \"ret_distance_phigh_night_open\", \"ret_distance_plow_night_open\"]"
   ]
  },
  {
   "cell_type": "markdown",
   "metadata": {},
   "source": [
    "### Ranges of values"
   ]
  },
  {
   "cell_type": "code",
   "execution_count": 12,
   "metadata": {},
   "outputs": [
    {
     "data": {
      "text/html": [
       "<div>\n",
       "<style scoped>\n",
       "    .dataframe tbody tr th:only-of-type {\n",
       "        vertical-align: middle;\n",
       "    }\n",
       "\n",
       "    .dataframe tbody tr th {\n",
       "        vertical-align: top;\n",
       "    }\n",
       "\n",
       "    .dataframe thead th {\n",
       "        text-align: right;\n",
       "    }\n",
       "</style>\n",
       "<table border=\"1\" class=\"dataframe\">\n",
       "  <thead>\n",
       "    <tr style=\"text-align: right;\">\n",
       "      <th></th>\n",
       "      <th>ret_distance_phigh_day_open</th>\n",
       "      <th>ret_distance_plow_day_open</th>\n",
       "      <th>ret_distance_phigh_night_open</th>\n",
       "      <th>ret_distance_plow_night_open</th>\n",
       "    </tr>\n",
       "  </thead>\n",
       "  <tbody>\n",
       "    <tr>\n",
       "      <th>count</th>\n",
       "      <td>1874.0000</td>\n",
       "      <td>1874.0000</td>\n",
       "      <td>1874.0000</td>\n",
       "      <td>1874.0000</td>\n",
       "    </tr>\n",
       "    <tr>\n",
       "      <th>mean</th>\n",
       "      <td>-0.0148</td>\n",
       "      <td>0.0196</td>\n",
       "      <td>-0.0221</td>\n",
       "      <td>0.0273</td>\n",
       "    </tr>\n",
       "    <tr>\n",
       "      <th>std</th>\n",
       "      <td>0.0367</td>\n",
       "      <td>0.0396</td>\n",
       "      <td>0.0233</td>\n",
       "      <td>0.0291</td>\n",
       "    </tr>\n",
       "    <tr>\n",
       "      <th>min</th>\n",
       "      <td>-0.2370</td>\n",
       "      <td>-0.1978</td>\n",
       "      <td>-0.2330</td>\n",
       "      <td>0.0000</td>\n",
       "    </tr>\n",
       "    <tr>\n",
       "      <th>25%</th>\n",
       "      <td>-0.0298</td>\n",
       "      <td>0.0000</td>\n",
       "      <td>-0.0289</td>\n",
       "      <td>0.0098</td>\n",
       "    </tr>\n",
       "    <tr>\n",
       "      <th>50%</th>\n",
       "      <td>-0.0114</td>\n",
       "      <td>0.0147</td>\n",
       "      <td>-0.0141</td>\n",
       "      <td>0.0184</td>\n",
       "    </tr>\n",
       "    <tr>\n",
       "      <th>75%</th>\n",
       "      <td>0.0033</td>\n",
       "      <td>0.0371</td>\n",
       "      <td>-0.0072</td>\n",
       "      <td>0.0348</td>\n",
       "    </tr>\n",
       "    <tr>\n",
       "      <th>max</th>\n",
       "      <td>0.1430</td>\n",
       "      <td>0.2363</td>\n",
       "      <td>0.0000</td>\n",
       "      <td>0.3740</td>\n",
       "    </tr>\n",
       "  </tbody>\n",
       "</table>\n",
       "</div>"
      ],
      "text/plain": [
       "       ret_distance_phigh_day_open  ret_distance_plow_day_open  \\\n",
       "count                    1874.0000                   1874.0000   \n",
       "mean                       -0.0148                      0.0196   \n",
       "std                         0.0367                      0.0396   \n",
       "min                        -0.2370                     -0.1978   \n",
       "25%                        -0.0298                      0.0000   \n",
       "50%                        -0.0114                      0.0147   \n",
       "75%                         0.0033                      0.0371   \n",
       "max                         0.1430                      0.2363   \n",
       "\n",
       "       ret_distance_phigh_night_open  ret_distance_plow_night_open  \n",
       "count                      1874.0000                     1874.0000  \n",
       "mean                         -0.0221                        0.0273  \n",
       "std                           0.0233                        0.0291  \n",
       "min                          -0.2330                        0.0000  \n",
       "25%                          -0.0289                        0.0098  \n",
       "50%                          -0.0141                        0.0184  \n",
       "75%                          -0.0072                        0.0348  \n",
       "max                           0.0000                        0.3740  "
      ]
     },
     "execution_count": 12,
     "metadata": {},
     "output_type": "execute_result"
    }
   ],
   "source": [
    "df[numerical].describe().round(4)"
   ]
  },
  {
   "cell_type": "code",
   "execution_count": null,
   "metadata": {},
   "outputs": [],
   "source": [
    "import matplotlib.pyplot as plt\n",
    "plt.hist(df['ret_distance_plow_night_open'], bins=50)"
   ]
  },
  {
   "cell_type": "markdown",
   "metadata": {},
   "source": [
    "The exploratory data analysis of the numerical features shows that the percentage distance between the high of the previous trading session and the open of the next session has a mean negative return of -0.0148 with standard deviation of 0.00367, the range of values is between -0.2370 and 0.143.\n",
    "\n",
    "The results for the distance between the low of the previous day session and the open of the day shows a mean of 0.0196 wit standard deviation of 0.0396. The range of values are between -0.1978 and 0.2363.\n",
    "\n",
    "Night session has interesting properties, the open of the day cannot be higher than the previous night high, and the open cannot be lower than the previous night low. By definition those distance has a left for the distance with previous night high and right skewed distribution for the distance between previous night low. "
   ]
  },
  {
   "cell_type": "markdown",
   "metadata": {},
   "source": [
    "### Missing values"
   ]
  },
  {
   "cell_type": "code",
   "execution_count": 18,
   "metadata": {},
   "outputs": [
    {
     "data": {
      "text/plain": [
       "phigh_day_touch                  0\n",
       "plow_day_touch                   0\n",
       "phigh_night_touch                0\n",
       "plow_night_touch                 0\n",
       "ret_distance_phigh_day_open      1\n",
       "ret_distance_plow_day_open       1\n",
       "ret_distance_phigh_night_open    1\n",
       "ret_distance_plow_night_open     1\n",
       "dtype: int64"
      ]
     },
     "execution_count": 18,
     "metadata": {},
     "output_type": "execute_result"
    }
   ],
   "source": [
    "df.isnull().sum()"
   ]
  },
  {
   "cell_type": "code",
   "execution_count": 20,
   "metadata": {},
   "outputs": [
    {
     "data": {
      "text/html": [
       "<div>\n",
       "<style scoped>\n",
       "    .dataframe tbody tr th:only-of-type {\n",
       "        vertical-align: middle;\n",
       "    }\n",
       "\n",
       "    .dataframe tbody tr th {\n",
       "        vertical-align: top;\n",
       "    }\n",
       "\n",
       "    .dataframe thead th {\n",
       "        text-align: right;\n",
       "    }\n",
       "</style>\n",
       "<table border=\"1\" class=\"dataframe\">\n",
       "  <thead>\n",
       "    <tr style=\"text-align: right;\">\n",
       "      <th></th>\n",
       "      <th>phigh_day_touch</th>\n",
       "      <th>plow_day_touch</th>\n",
       "      <th>phigh_night_touch</th>\n",
       "      <th>plow_night_touch</th>\n",
       "      <th>ret_distance_phigh_day_open</th>\n",
       "      <th>ret_distance_plow_day_open</th>\n",
       "      <th>ret_distance_phigh_night_open</th>\n",
       "      <th>ret_distance_plow_night_open</th>\n",
       "    </tr>\n",
       "  </thead>\n",
       "  <tbody>\n",
       "    <tr>\n",
       "      <th>2017-08-17</th>\n",
       "      <td>0</td>\n",
       "      <td>0</td>\n",
       "      <td>0</td>\n",
       "      <td>0</td>\n",
       "      <td>NaN</td>\n",
       "      <td>NaN</td>\n",
       "      <td>NaN</td>\n",
       "      <td>NaN</td>\n",
       "    </tr>\n",
       "    <tr>\n",
       "      <th>2017-08-18</th>\n",
       "      <td>0</td>\n",
       "      <td>1</td>\n",
       "      <td>0</td>\n",
       "      <td>1</td>\n",
       "      <td>-0.027313</td>\n",
       "      <td>0.011807</td>\n",
       "      <td>-0.027720</td>\n",
       "      <td>0.027991</td>\n",
       "    </tr>\n",
       "    <tr>\n",
       "      <th>2017-08-19</th>\n",
       "      <td>0</td>\n",
       "      <td>0</td>\n",
       "      <td>0</td>\n",
       "      <td>0</td>\n",
       "      <td>-0.072771</td>\n",
       "      <td>0.011737</td>\n",
       "      <td>-0.047719</td>\n",
       "      <td>0.035065</td>\n",
       "    </tr>\n",
       "  </tbody>\n",
       "</table>\n",
       "</div>"
      ],
      "text/plain": [
       "            phigh_day_touch  plow_day_touch  phigh_night_touch  \\\n",
       "2017-08-17                0               0                  0   \n",
       "2017-08-18                0               1                  0   \n",
       "2017-08-19                0               0                  0   \n",
       "\n",
       "            plow_night_touch  ret_distance_phigh_day_open  \\\n",
       "2017-08-17                 0                          NaN   \n",
       "2017-08-18                 1                    -0.027313   \n",
       "2017-08-19                 0                    -0.072771   \n",
       "\n",
       "            ret_distance_plow_day_open  ret_distance_phigh_night_open  \\\n",
       "2017-08-17                         NaN                            NaN   \n",
       "2017-08-18                    0.011807                      -0.027720   \n",
       "2017-08-19                    0.011737                      -0.047719   \n",
       "\n",
       "            ret_distance_plow_night_open  \n",
       "2017-08-17                           NaN  \n",
       "2017-08-18                      0.027991  \n",
       "2017-08-19                      0.035065  "
      ]
     },
     "execution_count": 20,
     "metadata": {},
     "output_type": "execute_result"
    }
   ],
   "source": [
    "df.head(3)"
   ]
  },
  {
   "cell_type": "markdown",
   "metadata": {},
   "source": [
    "The missing values are due to being a lagged indicator that takes the previous day, so it is safe to omit the first row"
   ]
  },
  {
   "cell_type": "code",
   "execution_count": 21,
   "metadata": {},
   "outputs": [],
   "source": [
    "df.dropna(inplace=True)"
   ]
  },
  {
   "cell_type": "code",
   "execution_count": 22,
   "metadata": {},
   "outputs": [
    {
     "data": {
      "text/plain": [
       "phigh_day_touch                  0\n",
       "plow_day_touch                   0\n",
       "phigh_night_touch                0\n",
       "plow_night_touch                 0\n",
       "ret_distance_phigh_day_open      0\n",
       "ret_distance_plow_day_open       0\n",
       "ret_distance_phigh_night_open    0\n",
       "ret_distance_plow_night_open     0\n",
       "dtype: int64"
      ]
     },
     "execution_count": 22,
     "metadata": {},
     "output_type": "execute_result"
    }
   ],
   "source": [
    "df.isnull().sum()"
   ]
  },
  {
   "cell_type": "markdown",
   "metadata": {},
   "source": [
    "### Target variable"
   ]
  },
  {
   "cell_type": "markdown",
   "metadata": {},
   "source": [
    "Since we want to create four models to have four different targets we need to evaluate four different outcomes"
   ]
  },
  {
   "cell_type": "code",
   "execution_count": 24,
   "metadata": {},
   "outputs": [
    {
     "name": "stdout",
     "output_type": "stream",
     "text": [
      "0    0.68143\n",
      "1    0.31857\n",
      "Name: phigh_day_touch, dtype: float64\n",
      "0    0.697439\n",
      "1    0.302561\n",
      "Name: plow_day_touch, dtype: float64\n",
      "0    0.628602\n",
      "1    0.371398\n",
      "Name: phigh_night_touch, dtype: float64\n",
      "0    0.696905\n",
      "1    0.303095\n",
      "Name: plow_night_touch, dtype: float64\n"
     ]
    }
   ],
   "source": [
    "for cat in categorical:\n",
    "    print(df[cat].value_counts(normalize=True))"
   ]
  },
  {
   "cell_type": "markdown",
   "metadata": {},
   "source": [
    "The first target feature is a binary outcome that evaluate if the price reach the previous day high, in the results 68% of the time we do reach the previous high, previous low is reach 70% of the time, and previous night high is reach 63% of the time and previous night low is reach 70% of the time."
   ]
  },
  {
   "cell_type": "markdown",
   "metadata": {},
   "source": [
    "### Feature importance"
   ]
  },
  {
   "cell_type": "code",
   "execution_count": 25,
   "metadata": {},
   "outputs": [],
   "source": [
    "from sklearn.model_selection import train_test_split\n",
    "df_train_full, df_test = train_test_split(df, test_size=0.2, random_state=1)\n",
    "df_train, df_val = train_test_split(df_train_full, test_size=0.33, random_state=11)\n",
    "\n",
    "y_train = df_train.phigh_day_touch.values\n",
    "y_val = df_val.phigh_day_touch.values"
   ]
  },
  {
   "cell_type": "code",
   "execution_count": 26,
   "metadata": {},
   "outputs": [
    {
     "data": {
      "text/html": [
       "<div>\n",
       "<style scoped>\n",
       "    .dataframe tbody tr th:only-of-type {\n",
       "        vertical-align: middle;\n",
       "    }\n",
       "\n",
       "    .dataframe tbody tr th {\n",
       "        vertical-align: top;\n",
       "    }\n",
       "\n",
       "    .dataframe thead th {\n",
       "        text-align: right;\n",
       "    }\n",
       "</style>\n",
       "<table border=\"1\" class=\"dataframe\">\n",
       "  <thead>\n",
       "    <tr style=\"text-align: right;\">\n",
       "      <th></th>\n",
       "      <th>correlation</th>\n",
       "    </tr>\n",
       "  </thead>\n",
       "  <tbody>\n",
       "    <tr>\n",
       "      <th>ret_distance_phigh_day_open</th>\n",
       "      <td>0.204804</td>\n",
       "    </tr>\n",
       "    <tr>\n",
       "      <th>ret_distance_plow_day_open</th>\n",
       "      <td>0.190439</td>\n",
       "    </tr>\n",
       "    <tr>\n",
       "      <th>ret_distance_phigh_night_open</th>\n",
       "      <td>0.233205</td>\n",
       "    </tr>\n",
       "    <tr>\n",
       "      <th>ret_distance_plow_night_open</th>\n",
       "      <td>0.005932</td>\n",
       "    </tr>\n",
       "  </tbody>\n",
       "</table>\n",
       "</div>"
      ],
      "text/plain": [
       "                               correlation\n",
       "ret_distance_phigh_day_open       0.204804\n",
       "ret_distance_plow_day_open        0.190439\n",
       "ret_distance_phigh_night_open     0.233205\n",
       "ret_distance_plow_night_open      0.005932"
      ]
     },
     "execution_count": 26,
     "metadata": {},
     "output_type": "execute_result"
    }
   ],
   "source": [
    "df_train_full[numerical].corrwith(df_train_full.phigh_day_touch).to_frame('correlation')"
   ]
  },
  {
   "cell_type": "code",
   "execution_count": 27,
   "metadata": {},
   "outputs": [
    {
     "data": {
      "text/html": [
       "<div>\n",
       "<style scoped>\n",
       "    .dataframe tbody tr th:only-of-type {\n",
       "        vertical-align: middle;\n",
       "    }\n",
       "\n",
       "    .dataframe tbody tr th {\n",
       "        vertical-align: top;\n",
       "    }\n",
       "\n",
       "    .dataframe thead th {\n",
       "        text-align: right;\n",
       "    }\n",
       "</style>\n",
       "<table border=\"1\" class=\"dataframe\">\n",
       "  <thead>\n",
       "    <tr style=\"text-align: right;\">\n",
       "      <th></th>\n",
       "      <th>ret_distance_phigh_day_open</th>\n",
       "      <th>ret_distance_plow_day_open</th>\n",
       "      <th>ret_distance_phigh_night_open</th>\n",
       "      <th>ret_distance_plow_night_open</th>\n",
       "    </tr>\n",
       "    <tr>\n",
       "      <th>phigh_day_touch</th>\n",
       "      <th></th>\n",
       "      <th></th>\n",
       "      <th></th>\n",
       "      <th></th>\n",
       "    </tr>\n",
       "  </thead>\n",
       "  <tbody>\n",
       "    <tr>\n",
       "      <th>0</th>\n",
       "      <td>-0.020053</td>\n",
       "      <td>0.014198</td>\n",
       "      <td>-0.02566</td>\n",
       "      <td>0.026443</td>\n",
       "    </tr>\n",
       "    <tr>\n",
       "      <th>1</th>\n",
       "      <td>-0.004053</td>\n",
       "      <td>0.030160</td>\n",
       "      <td>-0.01397</td>\n",
       "      <td>0.026783</td>\n",
       "    </tr>\n",
       "  </tbody>\n",
       "</table>\n",
       "</div>"
      ],
      "text/plain": [
       "                 ret_distance_phigh_day_open  ret_distance_plow_day_open  \\\n",
       "phigh_day_touch                                                            \n",
       "0                                  -0.020053                    0.014198   \n",
       "1                                  -0.004053                    0.030160   \n",
       "\n",
       "                 ret_distance_phigh_night_open  ret_distance_plow_night_open  \n",
       "phigh_day_touch                                                               \n",
       "0                                     -0.02566                      0.026443  \n",
       "1                                     -0.01397                      0.026783  "
      ]
     },
     "execution_count": 27,
     "metadata": {},
     "output_type": "execute_result"
    }
   ],
   "source": [
    "df_train_full.groupby(by='phigh_day_touch')[numerical].mean()"
   ]
  },
  {
   "cell_type": "code",
   "execution_count": 32,
   "metadata": {},
   "outputs": [
    {
     "data": {
      "text/plain": [
       "<AxesSubplot:xlabel='ret_distance_phigh_day_open', ylabel='Count'>"
      ]
     },
     "execution_count": 32,
     "metadata": {},
     "output_type": "execute_result"
    },
    {
     "data": {
      "image/png": "[encoded data removed]",
      "text/plain": [
       "<Figure size 640x480 with 1 Axes>"
      ]
     },
     "metadata": {},
     "output_type": "display_data"
    }
   ],
   "source": [
    "import seaborn as sns\n",
    "import numpy as np\n",
    "\n",
    "sns.histplot(df_train.ret_distance_phigh_day_open, bins=50)"
   ]
  },
  {
   "cell_type": "code",
   "execution_count": 33,
   "metadata": {},
   "outputs": [
    {
     "data": {
      "text/plain": [
       "<AxesSubplot:xlabel='ret_distance_plow_day_open', ylabel='Count'>"
      ]
     },
     "execution_count": 33,
     "metadata": {},
     "output_type": "execute_result"
    },
    {
     "data": {
      "image/png": "[encoded data removed]",
      "text/plain": [
       "<Figure size 640x480 with 1 Axes>"
      ]
     },
     "metadata": {},
     "output_type": "display_data"
    }
   ],
   "source": [
    "sns.histplot(df_train.ret_distance_plow_day_open, bins=50)"
   ]
  },
  {
   "cell_type": "code",
   "execution_count": 34,
   "metadata": {},
   "outputs": [
    {
     "data": {
      "text/plain": [
       "<AxesSubplot:xlabel='ret_distance_phigh_night_open', ylabel='Count'>"
      ]
     },
     "execution_count": 34,
     "metadata": {},
     "output_type": "execute_result"
    },
    {
     "data": {
      "image/png": "[encoded data removed]",
      "text/plain": [
       "<Figure size 640x480 with 1 Axes>"
      ]
     },
     "metadata": {},
     "output_type": "display_data"
    }
   ],
   "source": [
    "sns.histplot(df_train.ret_distance_phigh_night_open, bins=50)"
   ]
  },
  {
   "cell_type": "code",
   "execution_count": 35,
   "metadata": {},
   "outputs": [
    {
     "data": {
      "text/plain": [
       "<AxesSubplot:xlabel='ret_distance_plow_night_open', ylabel='Count'>"
      ]
     },
     "execution_count": 35,
     "metadata": {},
     "output_type": "execute_result"
    },
    {
     "data": {
      "image/png": "[encoded data removed]",
      "text/plain": [
       "<Figure size 640x480 with 1 Axes>"
      ]
     },
     "metadata": {},
     "output_type": "display_data"
    }
   ],
   "source": [
    "sns.histplot(df_train.ret_distance_plow_night_open, bins=50)"
   ]
  },
  {
   "cell_type": "markdown",
   "metadata": {},
   "source": [
    "## Model Training"
   ]
  },
  {
   "cell_type": "markdown",
   "metadata": {},
   "source": [
    "- Train a logistic regression model\n",
    "- Train a Random Forest Model (Tune parameters)\n",
    "- Tain a XGBosst Model (Tune parameters)"
   ]
  },
  {
   "cell_type": "code",
   "execution_count": 36,
   "metadata": {},
   "outputs": [],
   "source": [
    "from sklearn.feature_extraction import DictVectorizer\n",
    "from sklearn.metrics import roc_auc_score\n",
    "\n",
    "train_dicts = df_train[numerical].to_dict(orient='records')\n",
    "dv = DictVectorizer(sparse=False)\n",
    "X_train = dv.fit_transform(train_dicts)\n",
    "\n",
    "val_dicts = df_val[numerical].to_dict(orient='records')\n",
    "X_val = dv.transform(val_dicts)\n",
    "\n",
    "test_dicts = df_test[numerical].to_dict(orient='records')\n",
    "X_test = dv.transform(test_dicts)"
   ]
  },
  {
   "cell_type": "markdown",
   "metadata": {},
   "source": [
    "### Logistic regression"
   ]
  },
  {
   "cell_type": "code",
   "execution_count": 54,
   "metadata": {},
   "outputs": [
    {
     "data": {
      "text/html": [
       "<style>#sk-container-id-3 {color: black;background-color: white;}#sk-container-id-3 pre{padding: 0;}#sk-container-id-3 div.sk-toggleable {background-color: white;}#sk-container-id-3 label.sk-toggleable__label {cursor: pointer;display: block;width: 100%;margin-bottom: 0;padding: 0.3em;box-sizing: border-box;text-align: center;}#sk-container-id-3 label.sk-toggleable__label-arrow:before {content: \"▸\";float: left;margin-right: 0.25em;color: #696969;}#sk-container-id-3 label.sk-toggleable__label-arrow:hover:before {color: black;}#sk-container-id-3 div.sk-estimator:hover label.sk-toggleable__label-arrow:before {color: black;}#sk-container-id-3 div.sk-toggleable__content {max-height: 0;max-width: 0;overflow: hidden;text-align: left;background-color: #f0f8ff;}#sk-container-id-3 div.sk-toggleable__content pre {margin: 0.2em;color: black;border-radius: 0.25em;background-color: #f0f8ff;}#sk-container-id-3 input.sk-toggleable__control:checked~div.sk-toggleable__content {max-height: 200px;max-width: 100%;overflow: auto;}#sk-container-id-3 input.sk-toggleable__control:checked~label.sk-toggleable__label-arrow:before {content: \"▾\";}#sk-container-id-3 div.sk-estimator input.sk-toggleable__control:checked~label.sk-toggleable__label {background-color: #d4ebff;}#sk-container-id-3 div.sk-label input.sk-toggleable__control:checked~label.sk-toggleable__label {background-color: #d4ebff;}#sk-container-id-3 input.sk-hidden--visually {border: 0;clip: rect(1px 1px 1px 1px);clip: rect(1px, 1px, 1px, 1px);height: 1px;margin: -1px;overflow: hidden;padding: 0;position: absolute;width: 1px;}#sk-container-id-3 div.sk-estimator {font-family: monospace;background-color: #f0f8ff;border: 1px dotted black;border-radius: 0.25em;box-sizing: border-box;margin-bottom: 0.5em;}#sk-container-id-3 div.sk-estimator:hover {background-color: #d4ebff;}#sk-container-id-3 div.sk-parallel-item::after {content: \"\";width: 100%;border-bottom: 1px solid gray;flex-grow: 1;}#sk-container-id-3 div.sk-label:hover label.sk-toggleable__label {background-color: #d4ebff;}#sk-container-id-3 div.sk-serial::before {content: \"\";position: absolute;border-left: 1px solid gray;box-sizing: border-box;top: 0;bottom: 0;left: 50%;z-index: 0;}#sk-container-id-3 div.sk-serial {display: flex;flex-direction: column;align-items: center;background-color: white;padding-right: 0.2em;padding-left: 0.2em;position: relative;}#sk-container-id-3 div.sk-item {position: relative;z-index: 1;}#sk-container-id-3 div.sk-parallel {display: flex;align-items: stretch;justify-content: center;background-color: white;position: relative;}#sk-container-id-3 div.sk-item::before, #sk-container-id-3 div.sk-parallel-item::before {content: \"\";position: absolute;border-left: 1px solid gray;box-sizing: border-box;top: 0;bottom: 0;left: 50%;z-index: -1;}#sk-container-id-3 div.sk-parallel-item {display: flex;flex-direction: column;z-index: 1;position: relative;background-color: white;}#sk-container-id-3 div.sk-parallel-item:first-child::after {align-self: flex-end;width: 50%;}#sk-container-id-3 div.sk-parallel-item:last-child::after {align-self: flex-start;width: 50%;}#sk-container-id-3 div.sk-parallel-item:only-child::after {width: 0;}#sk-container-id-3 div.sk-dashed-wrapped {border: 1px dashed gray;margin: 0 0.4em 0.5em 0.4em;box-sizing: border-box;padding-bottom: 0.4em;background-color: white;}#sk-container-id-3 div.sk-label label {font-family: monospace;font-weight: bold;display: inline-block;line-height: 1.2em;}#sk-container-id-3 div.sk-label-container {text-align: center;}#sk-container-id-3 div.sk-container {/* jupyter's `normalize.less` sets `[hidden] { display: none; }` but bootstrap.min.css set `[hidden] { display: none !important; }` so we also need the `!important` here to be able to override the default hidden behavior on the sphinx rendered scikit-learn.org. See: https://github.com/scikit-learn/scikit-learn/issues/21755 */display: inline-block !important;position: relative;}#sk-container-id-3 div.sk-text-repr-fallback {display: none;}</style><div id=\"sk-container-id-3\" class=\"sk-top-container\"><div class=\"sk-text-repr-fallback\"><pre>LogisticRegression(random_state=1, solver=&#x27;liblinear&#x27;)</pre><b>In a Jupyter environment, please rerun this cell to show the HTML representation or trust the notebook. <br />On GitHub, the HTML representation is unable to render, please try loading this page with nbviewer.org.</b></div><div class=\"sk-container\" hidden><div class=\"sk-item\"><div class=\"sk-estimator sk-toggleable\"><input class=\"sk-toggleable__control sk-hidden--visually\" id=\"sk-estimator-id-3\" type=\"checkbox\" checked><label for=\"sk-estimator-id-3\" class=\"sk-toggleable__label sk-toggleable__label-arrow\">LogisticRegression</label><div class=\"sk-toggleable__content\"><pre>LogisticRegression(random_state=1, solver=&#x27;liblinear&#x27;)</pre></div></div></div></div></div>"
      ],
      "text/plain": [
       "LogisticRegression(random_state=1, solver='liblinear')"
      ]
     },
     "execution_count": 54,
     "metadata": {},
     "output_type": "execute_result"
    }
   ],
   "source": [
    "from sklearn.linear_model import LogisticRegression\n",
    "model = LogisticRegression(solver='liblinear', random_state=1)\n",
    "model.fit(X_train, y_train)"
   ]
  },
  {
   "cell_type": "code",
   "execution_count": 47,
   "metadata": {},
   "outputs": [
    {
     "data": {
      "text/plain": [
       "0.7151515151515152"
      ]
     },
     "execution_count": 47,
     "metadata": {},
     "output_type": "execute_result"
    }
   ],
   "source": [
    "y_pred = model.predict_proba(X_val)[:, 1]\n",
    "phigh = y_pred > 0.5\n",
    "(y_val == phigh).mean()"
   ]
  },
  {
   "cell_type": "markdown",
   "metadata": {},
   "source": [
    "### Random Forest"
   ]
  },
  {
   "cell_type": "code",
   "execution_count": 41,
   "metadata": {},
   "outputs": [],
   "source": [
    "from sklearn.ensemble import RandomForestClassifier\n",
    "\n",
    "scores = []\n",
    "\n",
    "for d in [5, 10, 15]:\n",
    "    for n in range(10, 201, 10):\n",
    "        rf = RandomForestClassifier(n_estimators=n,\n",
    "                                    max_depth=d,\n",
    "                                    random_state=1)\n",
    "        rf.fit(X_train, y_train)\n",
    "\n",
    "        y_pred = rf.predict_proba(X_val)[:, 1]\n",
    "        auc = roc_auc_score(y_val, y_pred)\n",
    "\n",
    "        scores.append((d, n, auc))"
   ]
  },
  {
   "cell_type": "code",
   "execution_count": 45,
   "metadata": {},
   "outputs": [
    {
     "data": {
      "text/html": [
       "<div>\n",
       "<style scoped>\n",
       "    .dataframe tbody tr th:only-of-type {\n",
       "        vertical-align: middle;\n",
       "    }\n",
       "\n",
       "    .dataframe tbody tr th {\n",
       "        vertical-align: top;\n",
       "    }\n",
       "\n",
       "    .dataframe thead th {\n",
       "        text-align: right;\n",
       "    }\n",
       "</style>\n",
       "<table border=\"1\" class=\"dataframe\">\n",
       "  <thead>\n",
       "    <tr style=\"text-align: right;\">\n",
       "      <th></th>\n",
       "      <th>max_depth</th>\n",
       "      <th>n_estimators</th>\n",
       "      <th>auc</th>\n",
       "    </tr>\n",
       "  </thead>\n",
       "  <tbody>\n",
       "    <tr>\n",
       "      <th>0</th>\n",
       "      <td>5</td>\n",
       "      <td>10</td>\n",
       "      <td>0.821733</td>\n",
       "    </tr>\n",
       "    <tr>\n",
       "      <th>1</th>\n",
       "      <td>5</td>\n",
       "      <td>20</td>\n",
       "      <td>0.822435</td>\n",
       "    </tr>\n",
       "    <tr>\n",
       "      <th>2</th>\n",
       "      <td>5</td>\n",
       "      <td>30</td>\n",
       "      <td>0.827523</td>\n",
       "    </tr>\n",
       "    <tr>\n",
       "      <th>3</th>\n",
       "      <td>5</td>\n",
       "      <td>40</td>\n",
       "      <td>0.828495</td>\n",
       "    </tr>\n",
       "    <tr>\n",
       "      <th>4</th>\n",
       "      <td>5</td>\n",
       "      <td>50</td>\n",
       "      <td>0.828796</td>\n",
       "    </tr>\n",
       "  </tbody>\n",
       "</table>\n",
       "</div>"
      ],
      "text/plain": [
       "   max_depth  n_estimators       auc\n",
       "0          5            10  0.821733\n",
       "1          5            20  0.822435\n",
       "2          5            30  0.827523\n",
       "3          5            40  0.828495\n",
       "4          5            50  0.828796"
      ]
     },
     "execution_count": 45,
     "metadata": {},
     "output_type": "execute_result"
    }
   ],
   "source": [
    "columns = ['max_depth', 'n_estimators', 'auc']\n",
    "df_scores = pd.DataFrame(scores, columns=columns)\n",
    "df_scores.head()"
   ]
  },
  {
   "cell_type": "code",
   "execution_count": 44,
   "metadata": {},
   "outputs": [
    {
     "data": {
      "text/plain": [
       "<matplotlib.legend.Legend at 0x16cad2ebf70>"
      ]
     },
     "execution_count": 44,
     "metadata": {},
     "output_type": "execute_result"
    },
    {
     "data": {
      "image/png": "[encoded data removed]",
      "text/plain": [
       "<Figure size 640x480 with 1 Axes>"
      ]
     },
     "metadata": {},
     "output_type": "display_data"
    }
   ],
   "source": [
    "# Graphing \n",
    "for d in [5, 10, 15]:\n",
    "    df_subset = df_scores[df_scores.max_depth == d]\n",
    "    \n",
    "    plt.plot(df_subset.n_estimators, df_subset.auc,\n",
    "             label='max_depth=%d' % d)\n",
    "\n",
    "plt.legend()"
   ]
  },
  {
   "cell_type": "code",
   "execution_count": 48,
   "metadata": {},
   "outputs": [],
   "source": [
    "# min_samples_leaf was also defined in 6.5, please take a look there! \n",
    "scores = []\n",
    "\n",
    "for s in [1, 3, 5, 10, 50]:\n",
    "    for n in range(10, 201, 10):\n",
    "        rf = RandomForestClassifier(n_estimators=n,\n",
    "                                    max_depth=10,\n",
    "                                    min_samples_leaf=s,\n",
    "                                    random_state=1)\n",
    "        rf.fit(X_train, y_train)\n",
    "\n",
    "        y_pred = rf.predict_proba(X_val)[:, 1]\n",
    "        auc = roc_auc_score(y_val, y_pred)\n",
    "\n",
    "        scores.append((s, n, auc))"
   ]
  },
  {
   "cell_type": "code",
   "execution_count": 51,
   "metadata": {},
   "outputs": [
    {
     "data": {
      "text/plain": [
       "<matplotlib.legend.Legend at 0x16cac2a58e0>"
      ]
     },
     "execution_count": 51,
     "metadata": {},
     "output_type": "execute_result"
    },
    {
     "data": {
      "image/png": "[encoded data removed]",
      "text/plain": [
       "<Figure size 640x480 with 1 Axes>"
      ]
     },
     "metadata": {},
     "output_type": "display_data"
    }
   ],
   "source": [
    "columns = ['min_samples_leaf', 'n_estimators', 'auc']\n",
    "df_scores = pd.DataFrame(scores, columns=columns)\n",
    "\n",
    "colors = ['black', 'blue', 'orange', 'red', 'grey']\n",
    "values = [1, 3, 5, 10, 50]\n",
    "\n",
    "for s, col in zip(values, colors):\n",
    "    df_subset = df_scores[df_scores.min_samples_leaf == s]\n",
    "    \n",
    "    plt.plot(df_subset.n_estimators, df_subset.auc,\n",
    "             color=col,\n",
    "             label='min_samples_leaf=%d' % s)\n",
    "\n",
    "plt.legend()"
   ]
  },
  {
   "cell_type": "code",
   "execution_count": 53,
   "metadata": {},
   "outputs": [
    {
     "data": {
      "text/html": [
       "<style>#sk-container-id-2 {color: black;background-color: white;}#sk-container-id-2 pre{padding: 0;}#sk-container-id-2 div.sk-toggleable {background-color: white;}#sk-container-id-2 label.sk-toggleable__label {cursor: pointer;display: block;width: 100%;margin-bottom: 0;padding: 0.3em;box-sizing: border-box;text-align: center;}#sk-container-id-2 label.sk-toggleable__label-arrow:before {content: \"▸\";float: left;margin-right: 0.25em;color: #696969;}#sk-container-id-2 label.sk-toggleable__label-arrow:hover:before {color: black;}#sk-container-id-2 div.sk-estimator:hover label.sk-toggleable__label-arrow:before {color: black;}#sk-container-id-2 div.sk-toggleable__content {max-height: 0;max-width: 0;overflow: hidden;text-align: left;background-color: #f0f8ff;}#sk-container-id-2 div.sk-toggleable__content pre {margin: 0.2em;color: black;border-radius: 0.25em;background-color: #f0f8ff;}#sk-container-id-2 input.sk-toggleable__control:checked~div.sk-toggleable__content {max-height: 200px;max-width: 100%;overflow: auto;}#sk-container-id-2 input.sk-toggleable__control:checked~label.sk-toggleable__label-arrow:before {content: \"▾\";}#sk-container-id-2 div.sk-estimator input.sk-toggleable__control:checked~label.sk-toggleable__label {background-color: #d4ebff;}#sk-container-id-2 div.sk-label input.sk-toggleable__control:checked~label.sk-toggleable__label {background-color: #d4ebff;}#sk-container-id-2 input.sk-hidden--visually {border: 0;clip: rect(1px 1px 1px 1px);clip: rect(1px, 1px, 1px, 1px);height: 1px;margin: -1px;overflow: hidden;padding: 0;position: absolute;width: 1px;}#sk-container-id-2 div.sk-estimator {font-family: monospace;background-color: #f0f8ff;border: 1px dotted black;border-radius: 0.25em;box-sizing: border-box;margin-bottom: 0.5em;}#sk-container-id-2 div.sk-estimator:hover {background-color: #d4ebff;}#sk-container-id-2 div.sk-parallel-item::after {content: \"\";width: 100%;border-bottom: 1px solid gray;flex-grow: 1;}#sk-container-id-2 div.sk-label:hover label.sk-toggleable__label {background-color: #d4ebff;}#sk-container-id-2 div.sk-serial::before {content: \"\";position: absolute;border-left: 1px solid gray;box-sizing: border-box;top: 0;bottom: 0;left: 50%;z-index: 0;}#sk-container-id-2 div.sk-serial {display: flex;flex-direction: column;align-items: center;background-color: white;padding-right: 0.2em;padding-left: 0.2em;position: relative;}#sk-container-id-2 div.sk-item {position: relative;z-index: 1;}#sk-container-id-2 div.sk-parallel {display: flex;align-items: stretch;justify-content: center;background-color: white;position: relative;}#sk-container-id-2 div.sk-item::before, #sk-container-id-2 div.sk-parallel-item::before {content: \"\";position: absolute;border-left: 1px solid gray;box-sizing: border-box;top: 0;bottom: 0;left: 50%;z-index: -1;}#sk-container-id-2 div.sk-parallel-item {display: flex;flex-direction: column;z-index: 1;position: relative;background-color: white;}#sk-container-id-2 div.sk-parallel-item:first-child::after {align-self: flex-end;width: 50%;}#sk-container-id-2 div.sk-parallel-item:last-child::after {align-self: flex-start;width: 50%;}#sk-container-id-2 div.sk-parallel-item:only-child::after {width: 0;}#sk-container-id-2 div.sk-dashed-wrapped {border: 1px dashed gray;margin: 0 0.4em 0.5em 0.4em;box-sizing: border-box;padding-bottom: 0.4em;background-color: white;}#sk-container-id-2 div.sk-label label {font-family: monospace;font-weight: bold;display: inline-block;line-height: 1.2em;}#sk-container-id-2 div.sk-label-container {text-align: center;}#sk-container-id-2 div.sk-container {/* jupyter's `normalize.less` sets `[hidden] { display: none; }` but bootstrap.min.css set `[hidden] { display: none !important; }` so we also need the `!important` here to be able to override the default hidden behavior on the sphinx rendered scikit-learn.org. See: https://github.com/scikit-learn/scikit-learn/issues/21755 */display: inline-block !important;position: relative;}#sk-container-id-2 div.sk-text-repr-fallback {display: none;}</style><div id=\"sk-container-id-2\" class=\"sk-top-container\"><div class=\"sk-text-repr-fallback\"><pre>RandomForestClassifier(max_depth=10, min_samples_leaf=10, n_estimators=27,\n",
       "                       random_state=1)</pre><b>In a Jupyter environment, please rerun this cell to show the HTML representation or trust the notebook. <br />On GitHub, the HTML representation is unable to render, please try loading this page with nbviewer.org.</b></div><div class=\"sk-container\" hidden><div class=\"sk-item\"><div class=\"sk-estimator sk-toggleable\"><input class=\"sk-toggleable__control sk-hidden--visually\" id=\"sk-estimator-id-2\" type=\"checkbox\" checked><label for=\"sk-estimator-id-2\" class=\"sk-toggleable__label sk-toggleable__label-arrow\">RandomForestClassifier</label><div class=\"sk-toggleable__content\"><pre>RandomForestClassifier(max_depth=10, min_samples_leaf=10, n_estimators=27,\n",
       "                       random_state=1)</pre></div></div></div></div></div>"
      ],
      "text/plain": [
       "RandomForestClassifier(max_depth=10, min_samples_leaf=10, n_estimators=27,\n",
       "                       random_state=1)"
      ]
     },
     "execution_count": 53,
     "metadata": {},
     "output_type": "execute_result"
    }
   ],
   "source": [
    "rf = RandomForestClassifier(n_estimators=27,\n",
    "                            max_depth=10,\n",
    "                            min_samples_leaf=10,\n",
    "                            random_state=1)\n",
    "rf.fit(X_train, y_train)"
   ]
  },
  {
   "cell_type": "code",
   "execution_count": 55,
   "metadata": {},
   "outputs": [
    {
     "data": {
      "text/plain": [
       "0.793939393939394"
      ]
     },
     "execution_count": 55,
     "metadata": {},
     "output_type": "execute_result"
    }
   ],
   "source": [
    "y_pred = rf.predict_proba(X_val)[:, 1]\n",
    "phigh = y_pred > 0.5\n",
    "(y_val == phigh).mean()"
   ]
  },
  {
   "cell_type": "code",
   "execution_count": 56,
   "metadata": {},
   "outputs": [
    {
     "name": "stderr",
     "output_type": "stream",
     "text": [
      "c:\\Users\\Pastor\\anaconda3\\envs\\ml-zoomcamp\\lib\\site-packages\\sklearn\\utils\\deprecation.py:87: FutureWarning: Function get_feature_names is deprecated; get_feature_names is deprecated in 1.0 and will be removed in 1.2. Please use get_feature_names_out instead.\n",
      "  warnings.warn(msg, category=FutureWarning)\n"
     ]
    }
   ],
   "source": [
    "import xgboost as xgb\n",
    "# The DMatrix allows for the XGBoost model to train faster as the DMatrix is optimised for the model. \n",
    "features = dv.get_feature_names()\n",
    "dtrain = xgb.DMatrix(X_train, label=y_train, feature_names=features)\n",
    "dval = xgb.DMatrix(X_val, label=y_val, feature_names=features)\n",
    "\n",
    "xgb_params = {\n",
    "    'eta': 0.3, \n",
    "    'max_depth': 6,\n",
    "    'min_child_weight': 1,\n",
    "    \n",
    "    'objective': 'binary:logistic',\n",
    "    'nthread': 8,\n",
    "    \n",
    "    'seed': 1,\n",
    "    'verbosity': 1,\n",
    "}\n",
    "\n",
    "model = xgb.train(xgb_params, dtrain, num_boost_round=10)"
   ]
  },
  {
   "cell_type": "code",
   "execution_count": 57,
   "metadata": {},
   "outputs": [
    {
     "data": {
      "text/plain": [
       "0.8314300597026885"
      ]
     },
     "execution_count": 57,
     "metadata": {},
     "output_type": "execute_result"
    }
   ],
   "source": [
    "y_pred = model.predict(dval)\n",
    "roc_auc_score(y_val, y_pred)"
   ]
  },
  {
   "cell_type": "code",
   "execution_count": 96,
   "metadata": {},
   "outputs": [],
   "source": [
    "# Function for producing a dataframe\n",
    "def parse_xgb_output(output):\n",
    "    results = []\n",
    "\n",
    "    for line in output.stdout.strip().split('\\n'):\n",
    "        it_line, train_line, val_line = line.split('\\t')\n",
    "\n",
    "        it = int(it_line.strip('[]'))\n",
    "        train = float(train_line.split(':')[1])\n",
    "        val = float(val_line.split(':')[1])\n",
    "\n",
    "        results.append((it, train, val))\n",
    "    \n",
    "    columns = ['num_iter', 'train_auc', 'val_auc']\n",
    "    df_results = pd.DataFrame(results, columns=columns)\n",
    "    return df_results"
   ]
  },
  {
   "cell_type": "code",
   "execution_count": 97,
   "metadata": {},
   "outputs": [],
   "source": [
    "scores = {}"
   ]
  },
  {
   "cell_type": "code",
   "execution_count": 98,
   "metadata": {},
   "outputs": [],
   "source": [
    "watchlist = [(dtrain, 'train'), (dval, 'val')]"
   ]
  },
  {
   "cell_type": "code",
   "execution_count": 116,
   "metadata": {},
   "outputs": [],
   "source": [
    "%%capture output\n",
    "\n",
    "xgb_params = {\n",
    "    'eta': 0.003, \n",
    "    'max_depth': 6,\n",
    "    'min_child_weight': 1,\n",
    "    \n",
    "    'objective': 'binary:logistic',\n",
    "    'eval_metric': 'auc',\n",
    "\n",
    "    'nthread': 8,\n",
    "    'seed': 1,\n",
    "    'verbosity': 1,\n",
    "}\n",
    "\n",
    "model = xgb.train(xgb_params, dtrain, num_boost_round=200,\n",
    "                verbose_eval=5,\n",
    "                evals=watchlist)\n",
    "\n",
    "key = 'eta=%s' % (xgb_params['eta'])\n",
    "scores[key] = parse_xgb_output(output)"
   ]
  },
  {
   "cell_type": "code",
   "execution_count": 111,
   "metadata": {},
   "outputs": [
    {
     "data": {
      "text/plain": [
       "dict_keys(['eta=1.0', 'eta=0.3', 'eta=0.1', 'eta=0.01', 'eta=0.001'])"
      ]
     },
     "execution_count": 111,
     "metadata": {},
     "output_type": "execute_result"
    }
   ],
   "source": [
    "scores.keys()"
   ]
  },
  {
   "cell_type": "code",
   "execution_count": 117,
   "metadata": {},
   "outputs": [
    {
     "data": {
      "text/plain": [
       "<matplotlib.legend.Legend at 0x16cb031f820>"
      ]
     },
     "execution_count": 117,
     "metadata": {},
     "output_type": "execute_result"
    },
    {
     "data": {
      "image/png": "[encoded data removed]",
      "text/plain": [
       "<Figure size 640x480 with 1 Axes>"
      ]
     },
     "metadata": {},
     "output_type": "display_data"
    }
   ],
   "source": [
    "etas = ['eta=0.1', 'eta=0.01', 'eta=0.001', 'eta=0.005', 'eta=0.003']\n",
    "\n",
    "for eta in etas:\n",
    "    df_score = scores[eta]\n",
    "    plt.plot(df_score.num_iter, df_score.val_auc, label = eta)\n",
    "plt.legend()"
   ]
  },
  {
   "cell_type": "markdown",
   "metadata": {},
   "source": [
    "Optimal eta=0.01"
   ]
  },
  {
   "cell_type": "code",
   "execution_count": 73,
   "metadata": {},
   "outputs": [],
   "source": [
    "import pickle\n",
    "import pandas as pd\n",
    "import numpy as np\n",
    "\n",
    "from sklearn.model_selection import train_test_split\n",
    "from sklearn.feature_extraction import DictVectorizer\n",
    "from sklearn.linear_model import LogisticRegression\n",
    "from sklearn.model_selection import KFold\n",
    "from sklearn.metrics import roc_auc_score"
   ]
  },
  {
   "cell_type": "code",
   "execution_count": 74,
   "metadata": {},
   "outputs": [],
   "source": [
    "# Training\n",
    "\n",
    "def train(df_train, y_train, C=1.0):\n",
    "    dicts = df_train[numerical].to_dict(orient='records')\n",
    "\n",
    "    dv = DictVectorizer(sparse=False)\n",
    "    X_train = dv.fit_transform(dicts)\n",
    "\n",
    "    model = LogisticRegression(solver='liblinear', C=C, max_iter=1000)\n",
    "    model.fit(X_train, y_train)\n",
    "\n",
    "    return dv, model\n",
    "\n",
    "def predict(df, dv, model):\n",
    "    dicts = df[numerical].to_dict(orient='records')\n",
    "\n",
    "    X = dv.transform(dicts)\n",
    "    y_pred = model.predict_proba(X)[:, 1]\n",
    "\n",
    "    return y_pred"
   ]
  },
  {
   "cell_type": "code",
   "execution_count": 96,
   "metadata": {},
   "outputs": [],
   "source": [
    "# validation\n",
    "def cv_train(df_train, df_val, y_feature):\n",
    "    scores = []\n",
    "    for C in [0.01, 0.1, 1, 10]:\n",
    "        print(f\"Doing validation with C={C}\")\n",
    "\n",
    "        kfold = KFold(n_splits=5, shuffle=True, random_state=1)\n",
    "        fold = 0\n",
    "        for train_idx, val_idx in kfold.split(df_full_train):\n",
    "            df_train = df_full_train.iloc[train_idx]\n",
    "            df_val = df_full_train.iloc[val_idx]\n",
    "\n",
    "            y_train = df_train[f\"{y_feature}\"].values\n",
    "            y_val = df_val[f\"{y_feature}\"].values\n",
    "\n",
    "            dv, model = train(df_train, y_train, C=C)\n",
    "            y_pred = predict(df_val, dv, model)\n",
    "\n",
    "            auc = roc_auc_score(y_val, y_pred)\n",
    "            scores.append(auc)\n",
    "\n",
    "            print(f'auc on fold {fold} is {auc}')\n",
    "            fold += 1\n",
    "            \n",
    "    return scores\n",
    "\n"
   ]
  },
  {
   "cell_type": "code",
   "execution_count": 94,
   "metadata": {},
   "outputs": [],
   "source": [
    "def val_results(scores, y_feature, C):\n",
    "\n",
    "    print(\"Validation results:\")\n",
    "    print('C=%s %.3f +- %.3f' % (C, np.mean(scores), np.std(scores)))\n",
    "\n",
    "    dv, model = train(df_full_train, df_full_train[y_feature].values, C=C)\n",
    "    y_pred = predict(df_test, dv, model)\n",
    "\n",
    "    y_test = df_test[y_feature].values\n",
    "    auc = roc_auc_score(y_test, y_pred)\n",
    "\n",
    "    print(f'auc={auc}')"
   ]
  },
  {
   "cell_type": "code",
   "execution_count": 98,
   "metadata": {},
   "outputs": [
    {
     "name": "stdout",
     "output_type": "stream",
     "text": [
      "Doing validation with C=0.01\n",
      "auc on fold 0 is 0.5966444270015699\n",
      "auc on fold 1 is 0.5953689167974883\n",
      "auc on fold 2 is 0.559138692803819\n",
      "auc on fold 3 is 0.5779860482453805\n",
      "auc on fold 4 is 0.5737792214707919\n",
      "Doing validation with C=0.1\n",
      "auc on fold 0 is 0.5864894034536892\n",
      "auc on fold 1 is 0.5987048665620094\n",
      "auc on fold 2 is 0.5378599360113757\n",
      "auc on fold 3 is 0.5425741519782736\n",
      "auc on fold 4 is 0.5840566590340275\n",
      "Doing validation with C=1\n",
      "auc on fold 0 is 0.5895310047095761\n",
      "auc on fold 1 is 0.6019917582417582\n",
      "auc on fold 2 is 0.54126250571327\n",
      "auc on fold 3 is 0.5437456733585387\n",
      "auc on fold 4 is 0.5868257095691997\n",
      "Doing validation with C=10\n",
      "auc on fold 0 is 0.6054748822605965\n",
      "auc on fold 1 is 0.6179846938775511\n",
      "auc on fold 2 is 0.5805190188410949\n",
      "auc on fold 3 is 0.5644070504286703\n",
      "auc on fold 4 is 0.6057830555407636\n"
     ]
    }
   ],
   "source": [
    "scores_m1 = cv_train(df_train, df_val, y_feature=categorical[0])"
   ]
  },
  {
   "cell_type": "code",
   "execution_count": 99,
   "metadata": {},
   "outputs": [
    {
     "name": "stdout",
     "output_type": "stream",
     "text": [
      "Doing validation with C=0.01\n",
      "auc on fold 0 is 0.5685938392810763\n",
      "auc on fold 1 is 0.6225941002060404\n",
      "auc on fold 2 is 0.5705824820691154\n",
      "auc on fold 3 is 0.5293987007939591\n",
      "auc on fold 4 is 0.5989191729323308\n",
      "Doing validation with C=0.1\n",
      "auc on fold 0 is 0.5685418939275881\n",
      "auc on fold 1 is 0.6288255691240766\n",
      "auc on fold 2 is 0.5649315366224733\n",
      "auc on fold 3 is 0.5402254178002331\n",
      "auc on fold 4 is 0.5885220864661653\n",
      "Doing validation with C=1\n",
      "auc on fold 0 is 0.5798140356345125\n",
      "auc on fold 1 is 0.6336499321573948\n",
      "auc on fold 2 is 0.5745490110845469\n",
      "auc on fold 3 is 0.5501637887957359\n",
      "auc on fold 4 is 0.5994478383458646\n",
      "Doing validation with C=10\n",
      "auc on fold 0 is 0.6212144823645525\n",
      "auc on fold 1 is 0.6305341976983768\n",
      "auc on fold 2 is 0.6245924798956749\n",
      "auc on fold 3 is 0.5993559491421909\n",
      "auc on fold 4 is 0.648672462406015\n"
     ]
    }
   ],
   "source": [
    "scores_m2 = cv_train(df_train, df_val, y_feature=categorical[1])"
   ]
  },
  {
   "cell_type": "code",
   "execution_count": 100,
   "metadata": {},
   "outputs": [
    {
     "name": "stdout",
     "output_type": "stream",
     "text": [
      "Doing validation with C=0.01\n",
      "auc on fold 0 is 0.7627797067901235\n",
      "auc on fold 1 is 0.715496368038741\n",
      "auc on fold 2 is 0.6678381458966565\n",
      "auc on fold 3 is 0.7635701102645401\n",
      "auc on fold 4 is 0.7083272283272283\n",
      "Doing validation with C=0.1\n",
      "auc on fold 0 is 0.7686631944444444\n",
      "auc on fold 1 is 0.7131681877444589\n",
      "auc on fold 2 is 0.665036094224924\n",
      "auc on fold 3 is 0.768917703847428\n",
      "auc on fold 4 is 0.708962148962149\n",
      "Doing validation with C=1\n",
      "auc on fold 0 is 0.7767168209876544\n",
      "auc on fold 1 is 0.718848947662507\n",
      "auc on fold 2 is 0.6708776595744681\n",
      "auc on fold 3 is 0.774691211963466\n",
      "auc on fold 4 is 0.714969474969475\n",
      "Doing validation with C=10\n",
      "auc on fold 0 is 0.8082079475308642\n",
      "auc on fold 1 is 0.7520953622648539\n",
      "auc on fold 2 is 0.7104863221884498\n",
      "auc on fold 3 is 0.7957503194358998\n",
      "auc on fold 4 is 0.7440293040293041\n"
     ]
    }
   ],
   "source": [
    "scores_m3 = cv_train(df_train, df_val, y_feature=categorical[2])"
   ]
  },
  {
   "cell_type": "code",
   "execution_count": 101,
   "metadata": {},
   "outputs": [
    {
     "name": "stdout",
     "output_type": "stream",
     "text": [
      "Doing validation with C=0.01\n",
      "auc on fold 0 is 0.7498978758169934\n",
      "auc on fold 1 is 0.7328248130935543\n",
      "auc on fold 2 is 0.7734920634920636\n",
      "auc on fold 3 is 0.7921693121693122\n",
      "auc on fold 4 is 0.7365741776683822\n",
      "Doing validation with C=0.1\n",
      "auc on fold 0 is 0.7495404411764706\n",
      "auc on fold 1 is 0.7438371388159224\n",
      "auc on fold 2 is 0.783015873015873\n",
      "auc on fold 3 is 0.7902645502645502\n",
      "auc on fold 4 is 0.7406578652942493\n",
      "Doing validation with C=1\n",
      "auc on fold 0 is 0.7581699346405228\n",
      "auc on fold 1 is 0.754192766215397\n",
      "auc on fold 2 is 0.7935449735449736\n",
      "auc on fold 3 is 0.797883597883598\n",
      "auc on fold 4 is 0.7492727679570373\n",
      "Doing validation with C=10\n",
      "auc on fold 0 is 0.8034109477124182\n",
      "auc on fold 1 is 0.7993028894726206\n",
      "auc on fold 2 is 0.8368253968253969\n",
      "auc on fold 3 is 0.8316931216931216\n",
      "auc on fold 4 is 0.7906690534795257\n"
     ]
    }
   ],
   "source": [
    "scores_m4 = cv_train(df_train, df_val, y_feature=categorical[3])"
   ]
  },
  {
   "cell_type": "markdown",
   "metadata": {},
   "source": [
    "All models perform better with C = 10"
   ]
  },
  {
   "cell_type": "code",
   "execution_count": 106,
   "metadata": {},
   "outputs": [
    {
     "name": "stdout",
     "output_type": "stream",
     "text": [
      "phigh_day_touch\n",
      "Validation results:\n",
      "C=10 0.580 +- 0.023\n",
      "auc=0.5715870135107884\n",
      "plow_day_touch\n",
      "Validation results:\n",
      "C=10 0.592 +- 0.033\n",
      "auc=0.6297645211930927\n",
      "phigh_night_touch\n",
      "Validation results:\n",
      "C=10 0.735 +- 0.041\n",
      "auc=0.7347416413373861\n",
      "plow_night_touch\n",
      "Validation results:\n",
      "C=10 0.775 +- 0.030\n",
      "auc=0.8262493210211841\n"
     ]
    }
   ],
   "source": [
    "print(categorical[0])\n",
    "val_results(scores_m1, categorical[0], 10)\n",
    "print(categorical[1])\n",
    "val_results(scores_m2, categorical[1], 10)\n",
    "print(categorical[2])\n",
    "val_results(scores_m3, categorical[2], 10)\n",
    "print(categorical[3])\n",
    "val_results(scores_m4, categorical[3], 10)"
   ]
  },
  {
   "cell_type": "code",
   "execution_count": 108,
   "metadata": {},
   "outputs": [],
   "source": [
    "for i in categorical:\n",
    "    dv, model = train(df_full_train, df_full_train[i].values, C=10)\n",
    "    output_file = f'model_{i}_C=10.bin'\n",
    "\n",
    "    with open(output_file, 'wb') as f_out:\n",
    "        pickle.dump((dv, model), f_out)"
   ]
  }
 ],
 "metadata": {
  "kernelspec": {
   "display_name": "Python 3.9.13 ('ml-zoomcamp')",
   "language": "python",
   "name": "python3"
  },
  "language_info": {
   "codemirror_mode": {
    "name": "ipython",
    "version": 3
   },
   "file_extension": ".py",
   "mimetype": "text/x-python",
   "name": "python",
   "nbconvert_exporter": "python",
   "pygments_lexer": "ipython3",
   "version": "3.9.13"
  },
  "orig_nbformat": 4,
  "vscode": {
   "interpreter": {
    "hash": "b813f36ccc8aa9020514b6b4fc5912b01df7a3b0825391f42c6be2df928d6782"
   }
  }
 },
 "nbformat": 4,
 "nbformat_minor": 2
}
