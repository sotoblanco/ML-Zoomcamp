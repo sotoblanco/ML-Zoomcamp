{
 "cells": [
  {
   "cell_type": "code",
   "execution_count": 130,
   "metadata": {},
   "outputs": [],
   "source": [
    "import pandas as pd\n",
    "import numpy as np\n",
    "import datetime "
   ]
  },
  {
   "cell_type": "code",
   "execution_count": 131,
   "metadata": {},
   "outputs": [],
   "source": [
    "df = pd.read_csv(\"BTCUSDT_historical.csv\", index_col=\"Unnamed: 0\", parse_dates=True)"
   ]
  },
  {
   "cell_type": "code",
   "execution_count": 132,
   "metadata": {},
   "outputs": [
    {
     "data": {
      "text/html": [
       "<div>\n",
       "<style scoped>\n",
       "    .dataframe tbody tr th:only-of-type {\n",
       "        vertical-align: middle;\n",
       "    }\n",
       "\n",
       "    .dataframe tbody tr th {\n",
       "        vertical-align: top;\n",
       "    }\n",
       "\n",
       "    .dataframe thead th {\n",
       "        text-align: right;\n",
       "    }\n",
       "</style>\n",
       "<table border=\"1\" class=\"dataframe\">\n",
       "  <thead>\n",
       "    <tr style=\"text-align: right;\">\n",
       "      <th></th>\n",
       "      <th>datetime</th>\n",
       "      <th>open</th>\n",
       "      <th>high</th>\n",
       "      <th>low</th>\n",
       "      <th>close</th>\n",
       "      <th>volume</th>\n",
       "    </tr>\n",
       "  </thead>\n",
       "  <tbody>\n",
       "    <tr>\n",
       "      <th>2017-08-17 00:00:00</th>\n",
       "      <td>1502942400000</td>\n",
       "      <td>4261.48</td>\n",
       "      <td>4313.62</td>\n",
       "      <td>4261.32</td>\n",
       "      <td>4308.83</td>\n",
       "      <td>47.181009</td>\n",
       "    </tr>\n",
       "    <tr>\n",
       "      <th>2017-08-17 01:00:00</th>\n",
       "      <td>1502946000000</td>\n",
       "      <td>4308.83</td>\n",
       "      <td>4328.69</td>\n",
       "      <td>4291.37</td>\n",
       "      <td>4315.32</td>\n",
       "      <td>23.234916</td>\n",
       "    </tr>\n",
       "    <tr>\n",
       "      <th>2017-08-17 02:00:00</th>\n",
       "      <td>1502949600000</td>\n",
       "      <td>4330.29</td>\n",
       "      <td>4345.45</td>\n",
       "      <td>4309.37</td>\n",
       "      <td>4324.35</td>\n",
       "      <td>7.229691</td>\n",
       "    </tr>\n",
       "    <tr>\n",
       "      <th>2017-08-17 03:00:00</th>\n",
       "      <td>1502953200000</td>\n",
       "      <td>4316.62</td>\n",
       "      <td>4349.99</td>\n",
       "      <td>4287.41</td>\n",
       "      <td>4349.99</td>\n",
       "      <td>4.443249</td>\n",
       "    </tr>\n",
       "    <tr>\n",
       "      <th>2017-08-17 04:00:00</th>\n",
       "      <td>1502956800000</td>\n",
       "      <td>4333.32</td>\n",
       "      <td>4377.85</td>\n",
       "      <td>4333.32</td>\n",
       "      <td>4360.69</td>\n",
       "      <td>0.972807</td>\n",
       "    </tr>\n",
       "  </tbody>\n",
       "</table>\n",
       "</div>"
      ],
      "text/plain": [
       "                          datetime     open     high      low    close  \\\n",
       "2017-08-17 00:00:00  1502942400000  4261.48  4313.62  4261.32  4308.83   \n",
       "2017-08-17 01:00:00  1502946000000  4308.83  4328.69  4291.37  4315.32   \n",
       "2017-08-17 02:00:00  1502949600000  4330.29  4345.45  4309.37  4324.35   \n",
       "2017-08-17 03:00:00  1502953200000  4316.62  4349.99  4287.41  4349.99   \n",
       "2017-08-17 04:00:00  1502956800000  4333.32  4377.85  4333.32  4360.69   \n",
       "\n",
       "                        volume  \n",
       "2017-08-17 00:00:00  47.181009  \n",
       "2017-08-17 01:00:00  23.234916  \n",
       "2017-08-17 02:00:00   7.229691  \n",
       "2017-08-17 03:00:00   4.443249  \n",
       "2017-08-17 04:00:00   0.972807  "
      ]
     },
     "execution_count": 132,
     "metadata": {},
     "output_type": "execute_result"
    }
   ],
   "source": [
    "df.head()"
   ]
  },
  {
   "cell_type": "code",
   "execution_count": 133,
   "metadata": {},
   "outputs": [
    {
     "data": {
      "text/html": [
       "<div>\n",
       "<style scoped>\n",
       "    .dataframe tbody tr th:only-of-type {\n",
       "        vertical-align: middle;\n",
       "    }\n",
       "\n",
       "    .dataframe tbody tr th {\n",
       "        vertical-align: top;\n",
       "    }\n",
       "\n",
       "    .dataframe thead th {\n",
       "        text-align: right;\n",
       "    }\n",
       "</style>\n",
       "<table border=\"1\" class=\"dataframe\">\n",
       "  <thead>\n",
       "    <tr style=\"text-align: right;\">\n",
       "      <th></th>\n",
       "      <th>datetime</th>\n",
       "      <th>open</th>\n",
       "      <th>high</th>\n",
       "      <th>low</th>\n",
       "      <th>close</th>\n",
       "      <th>volume</th>\n",
       "    </tr>\n",
       "  </thead>\n",
       "  <tbody>\n",
       "    <tr>\n",
       "      <th>2022-09-30 22:00:00</th>\n",
       "      <td>1664589600000</td>\n",
       "      <td>19423.06</td>\n",
       "      <td>19436.00</td>\n",
       "      <td>19384.41</td>\n",
       "      <td>19413.79</td>\n",
       "      <td>5773.83532</td>\n",
       "    </tr>\n",
       "    <tr>\n",
       "      <th>2022-09-30 23:00:00</th>\n",
       "      <td>1664593200000</td>\n",
       "      <td>19413.96</td>\n",
       "      <td>19438.75</td>\n",
       "      <td>19361.05</td>\n",
       "      <td>19416.05</td>\n",
       "      <td>5861.49212</td>\n",
       "    </tr>\n",
       "    <tr>\n",
       "      <th>2022-10-01 00:00:00</th>\n",
       "      <td>1664596800000</td>\n",
       "      <td>19416.05</td>\n",
       "      <td>19423.63</td>\n",
       "      <td>19370.70</td>\n",
       "      <td>19407.43</td>\n",
       "      <td>5958.93517</td>\n",
       "    </tr>\n",
       "    <tr>\n",
       "      <th>2022-10-01 01:00:00</th>\n",
       "      <td>1664600400000</td>\n",
       "      <td>19407.43</td>\n",
       "      <td>19418.88</td>\n",
       "      <td>19270.59</td>\n",
       "      <td>19317.92</td>\n",
       "      <td>12420.01718</td>\n",
       "    </tr>\n",
       "    <tr>\n",
       "      <th>2022-10-01 02:00:00</th>\n",
       "      <td>1664604000000</td>\n",
       "      <td>19316.82</td>\n",
       "      <td>19324.94</td>\n",
       "      <td>19266.26</td>\n",
       "      <td>19292.82</td>\n",
       "      <td>7000.01196</td>\n",
       "    </tr>\n",
       "  </tbody>\n",
       "</table>\n",
       "</div>"
      ],
      "text/plain": [
       "                          datetime      open      high       low     close  \\\n",
       "2022-09-30 22:00:00  1664589600000  19423.06  19436.00  19384.41  19413.79   \n",
       "2022-09-30 23:00:00  1664593200000  19413.96  19438.75  19361.05  19416.05   \n",
       "2022-10-01 00:00:00  1664596800000  19416.05  19423.63  19370.70  19407.43   \n",
       "2022-10-01 01:00:00  1664600400000  19407.43  19418.88  19270.59  19317.92   \n",
       "2022-10-01 02:00:00  1664604000000  19316.82  19324.94  19266.26  19292.82   \n",
       "\n",
       "                          volume  \n",
       "2022-09-30 22:00:00   5773.83532  \n",
       "2022-09-30 23:00:00   5861.49212  \n",
       "2022-10-01 00:00:00   5958.93517  \n",
       "2022-10-01 01:00:00  12420.01718  \n",
       "2022-10-01 02:00:00   7000.01196  "
      ]
     },
     "execution_count": 133,
     "metadata": {},
     "output_type": "execute_result"
    }
   ],
   "source": [
    "df.tail()"
   ]
  },
  {
   "cell_type": "code",
   "execution_count": 134,
   "metadata": {},
   "outputs": [
    {
     "data": {
      "text/plain": [
       "datetime    0\n",
       "open        0\n",
       "high        0\n",
       "low         0\n",
       "close       0\n",
       "volume      0\n",
       "dtype: int64"
      ]
     },
     "execution_count": 134,
     "metadata": {},
     "output_type": "execute_result"
    }
   ],
   "source": [
    "df.isnull().sum()"
   ]
  },
  {
   "cell_type": "markdown",
   "metadata": {},
   "source": [
    "Let's prepare the data and divided trading sessions between day and night\n",
    "Day: 9 to 13\n",
    "Night 14 to 8\n",
    "\n",
    "For this project we will make some naive assumptions\n",
    "\n",
    "The market is not random\n",
    "The price of BTC on the previous day and previous night matter for the next day"
   ]
  },
  {
   "cell_type": "code",
   "execution_count": 135,
   "metadata": {},
   "outputs": [],
   "source": [
    "df_day = df[(df.index.time >= datetime.time(9))\n",
    "   & (df.index.time <= datetime.time(16))]"
   ]
  },
  {
   "cell_type": "code",
   "execution_count": 136,
   "metadata": {},
   "outputs": [],
   "source": [
    "df_night = df[(df.index.time <= datetime.time(8)) |\n",
    "              (df.index.time >= datetime.time(17))]"
   ]
  },
  {
   "cell_type": "code",
   "execution_count": 31,
   "metadata": {},
   "outputs": [],
   "source": [
    "df_night = df[~df.index.isin(df_day.index)]"
   ]
  },
  {
   "cell_type": "code",
   "execution_count": 137,
   "metadata": {},
   "outputs": [
    {
     "data": {
      "text/plain": [
       "(15015, 29985, 45000)"
      ]
     },
     "execution_count": 137,
     "metadata": {},
     "output_type": "execute_result"
    }
   ],
   "source": [
    "len(df_day), len(df_night), len(df)"
   ]
  },
  {
   "cell_type": "code",
   "execution_count": 138,
   "metadata": {},
   "outputs": [
    {
     "name": "stderr",
     "output_type": "stream",
     "text": [
      "C:\\Users\\Pastor\\AppData\\Local\\Temp\\ipykernel_16676\\1416156222.py:1: SettingWithCopyWarning: \n",
      "A value is trying to be set on a copy of a slice from a DataFrame.\n",
      "Try using .loc[row_indexer,col_indexer] = value instead\n",
      "\n",
      "See the caveats in the documentation: https://pandas.pydata.org/pandas-docs/stable/user_guide/indexing.html#returning-a-view-versus-a-copy\n",
      "  df_day[\"date\"] = pd.to_datetime(df_day.index.date)\n"
     ]
    }
   ],
   "source": [
    "df_day[\"date\"] = pd.to_datetime(df_day.index.date)"
   ]
  },
  {
   "cell_type": "code",
   "execution_count": 139,
   "metadata": {},
   "outputs": [
    {
     "name": "stderr",
     "output_type": "stream",
     "text": [
      "C:\\Users\\Pastor\\AppData\\Local\\Temp\\ipykernel_16676\\2478715172.py:1: SettingWithCopyWarning: \n",
      "A value is trying to be set on a copy of a slice from a DataFrame.\n",
      "Try using .loc[row_indexer,col_indexer] = value instead\n",
      "\n",
      "See the caveats in the documentation: https://pandas.pydata.org/pandas-docs/stable/user_guide/indexing.html#returning-a-view-versus-a-copy\n",
      "  df_night[\"date\"] = pd.to_datetime(df_night.index.date)\n",
      "C:\\Users\\Pastor\\AppData\\Local\\Temp\\ipykernel_16676\\2478715172.py:3: SettingWithCopyWarning: \n",
      "A value is trying to be set on a copy of a slice from a DataFrame.\n",
      "Try using .loc[row_indexer,col_indexer] = value instead\n",
      "\n",
      "See the caveats in the documentation: https://pandas.pydata.org/pandas-docs/stable/user_guide/indexing.html#returning-a-view-versus-a-copy\n",
      "  df_night[\"date\"] = np.where(df_night.index.time < datetime.time(9),\n"
     ]
    }
   ],
   "source": [
    "df_night[\"date\"] = pd.to_datetime(df_night.index.date)\n",
    "\n",
    "df_night[\"date\"] = np.where(df_night.index.time < datetime.time(9),\n",
    "                                 df_night.index - pd.to_timedelta(1, unit=\"d\"),\n",
    "                                 df_night.date)"
   ]
  },
  {
   "cell_type": "code",
   "execution_count": 140,
   "metadata": {},
   "outputs": [],
   "source": [
    "df_night.index = df_night.date"
   ]
  },
  {
   "cell_type": "code",
   "execution_count": 145,
   "metadata": {},
   "outputs": [],
   "source": [
    "ohlc_dict = {\n",
    "    \"open\": \"first\",\n",
    "    \"high\": \"max\",\n",
    "    \"low\": \"min\",\n",
    "    \"close\": \"last\",\n",
    "    \"volume\": \"sum\"}\n",
    "\n",
    "day_sum = df_day.resample('1d').apply(ohlc_dict).dropna()\n",
    "night_sum = df_night.resample('1d').apply(ohlc_dict).dropna()"
   ]
  },
  {
   "cell_type": "code",
   "execution_count": 142,
   "metadata": {},
   "outputs": [],
   "source": [
    "#night_sum = night_sum.shift().dropna()"
   ]
  },
  {
   "cell_type": "code",
   "execution_count": 146,
   "metadata": {},
   "outputs": [],
   "source": [
    "day_night = day_sum.merge(night_sum, left_index=True, right_index=True, suffixes=('_day', '_night'))"
   ]
  },
  {
   "cell_type": "code",
   "execution_count": 147,
   "metadata": {},
   "outputs": [
    {
     "data": {
      "text/html": [
       "<div>\n",
       "<style scoped>\n",
       "    .dataframe tbody tr th:only-of-type {\n",
       "        vertical-align: middle;\n",
       "    }\n",
       "\n",
       "    .dataframe tbody tr th {\n",
       "        vertical-align: top;\n",
       "    }\n",
       "\n",
       "    .dataframe thead th {\n",
       "        text-align: right;\n",
       "    }\n",
       "</style>\n",
       "<table border=\"1\" class=\"dataframe\">\n",
       "  <thead>\n",
       "    <tr style=\"text-align: right;\">\n",
       "      <th></th>\n",
       "      <th>open_day</th>\n",
       "      <th>high_day</th>\n",
       "      <th>low_day</th>\n",
       "      <th>close_day</th>\n",
       "      <th>volume_day</th>\n",
       "      <th>open_night</th>\n",
       "      <th>high_night</th>\n",
       "      <th>low_night</th>\n",
       "      <th>close_night</th>\n",
       "      <th>volume_night</th>\n",
       "    </tr>\n",
       "  </thead>\n",
       "  <tbody>\n",
       "    <tr>\n",
       "      <th>2017-08-17</th>\n",
       "      <td>4411.00</td>\n",
       "      <td>4485.39</td>\n",
       "      <td>4200.74</td>\n",
       "      <td>4346.74</td>\n",
       "      <td>425.614791</td>\n",
       "      <td>4346.74</td>\n",
       "      <td>4371.52</td>\n",
       "      <td>4134.61</td>\n",
       "      <td>4331.71</td>\n",
       "      <td>936.635599</td>\n",
       "    </tr>\n",
       "    <tr>\n",
       "      <th>2017-08-18</th>\n",
       "      <td>4302.97</td>\n",
       "      <td>4318.16</td>\n",
       "      <td>3981.13</td>\n",
       "      <td>4021.11</td>\n",
       "      <td>374.465434</td>\n",
       "      <td>4015.40</td>\n",
       "      <td>4184.69</td>\n",
       "      <td>3850.00</td>\n",
       "      <td>4095.00</td>\n",
       "      <td>410.331225</td>\n",
       "    </tr>\n",
       "    <tr>\n",
       "      <th>2017-08-19</th>\n",
       "      <td>4095.00</td>\n",
       "      <td>4103.92</td>\n",
       "      <td>3953.40</td>\n",
       "      <td>4075.98</td>\n",
       "      <td>54.197220</td>\n",
       "      <td>4075.98</td>\n",
       "      <td>4211.08</td>\n",
       "      <td>4032.62</td>\n",
       "      <td>4108.47</td>\n",
       "      <td>80.363966</td>\n",
       "    </tr>\n",
       "    <tr>\n",
       "      <th>2017-08-20</th>\n",
       "      <td>4125.00</td>\n",
       "      <td>4185.94</td>\n",
       "      <td>4063.35</td>\n",
       "      <td>4140.93</td>\n",
       "      <td>249.780578</td>\n",
       "      <td>4140.93</td>\n",
       "      <td>4171.62</td>\n",
       "      <td>3953.40</td>\n",
       "      <td>4000.00</td>\n",
       "      <td>672.070734</td>\n",
       "    </tr>\n",
       "    <tr>\n",
       "      <th>2017-08-21</th>\n",
       "      <td>4000.00</td>\n",
       "      <td>4042.11</td>\n",
       "      <td>3911.79</td>\n",
       "      <td>4025.04</td>\n",
       "      <td>93.860645</td>\n",
       "      <td>4025.04</td>\n",
       "      <td>4070.49</td>\n",
       "      <td>3400.00</td>\n",
       "      <td>3934.01</td>\n",
       "      <td>648.538834</td>\n",
       "    </tr>\n",
       "    <tr>\n",
       "      <th>...</th>\n",
       "      <td>...</td>\n",
       "      <td>...</td>\n",
       "      <td>...</td>\n",
       "      <td>...</td>\n",
       "      <td>...</td>\n",
       "      <td>...</td>\n",
       "      <td>...</td>\n",
       "      <td>...</td>\n",
       "      <td>...</td>\n",
       "      <td>...</td>\n",
       "    </tr>\n",
       "    <tr>\n",
       "      <th>2022-09-26</th>\n",
       "      <td>19095.35</td>\n",
       "      <td>19280.00</td>\n",
       "      <td>18967.59</td>\n",
       "      <td>19113.86</td>\n",
       "      <td>158965.193890</td>\n",
       "      <td>19114.59</td>\n",
       "      <td>20385.86</td>\n",
       "      <td>19070.05</td>\n",
       "      <td>20270.88</td>\n",
       "      <td>328507.595800</td>\n",
       "    </tr>\n",
       "    <tr>\n",
       "      <th>2022-09-27</th>\n",
       "      <td>20270.88</td>\n",
       "      <td>20346.75</td>\n",
       "      <td>18816.32</td>\n",
       "      <td>19073.46</td>\n",
       "      <td>252251.253370</td>\n",
       "      <td>19073.46</td>\n",
       "      <td>19238.28</td>\n",
       "      <td>18471.28</td>\n",
       "      <td>19072.62</td>\n",
       "      <td>329232.973480</td>\n",
       "    </tr>\n",
       "    <tr>\n",
       "      <th>2022-09-28</th>\n",
       "      <td>19072.62</td>\n",
       "      <td>19666.66</td>\n",
       "      <td>19012.00</td>\n",
       "      <td>19568.23</td>\n",
       "      <td>200169.659160</td>\n",
       "      <td>19569.61</td>\n",
       "      <td>19790.00</td>\n",
       "      <td>19127.81</td>\n",
       "      <td>19211.63</td>\n",
       "      <td>241818.837280</td>\n",
       "    </tr>\n",
       "    <tr>\n",
       "      <th>2022-09-29</th>\n",
       "      <td>19211.63</td>\n",
       "      <td>19645.52</td>\n",
       "      <td>18843.01</td>\n",
       "      <td>19505.64</td>\n",
       "      <td>171071.912750</td>\n",
       "      <td>19507.09</td>\n",
       "      <td>19700.00</td>\n",
       "      <td>19155.36</td>\n",
       "      <td>19297.19</td>\n",
       "      <td>229305.459690</td>\n",
       "    </tr>\n",
       "    <tr>\n",
       "      <th>2022-09-30</th>\n",
       "      <td>19298.59</td>\n",
       "      <td>20185.00</td>\n",
       "      <td>19234.88</td>\n",
       "      <td>19424.31</td>\n",
       "      <td>213236.956770</td>\n",
       "      <td>19424.31</td>\n",
       "      <td>19484.00</td>\n",
       "      <td>19240.44</td>\n",
       "      <td>19292.82</td>\n",
       "      <td>83897.506650</td>\n",
       "    </tr>\n",
       "  </tbody>\n",
       "</table>\n",
       "<p>1870 rows × 10 columns</p>\n",
       "</div>"
      ],
      "text/plain": [
       "            open_day  high_day   low_day  close_day     volume_day  \\\n",
       "2017-08-17   4411.00   4485.39   4200.74    4346.74     425.614791   \n",
       "2017-08-18   4302.97   4318.16   3981.13    4021.11     374.465434   \n",
       "2017-08-19   4095.00   4103.92   3953.40    4075.98      54.197220   \n",
       "2017-08-20   4125.00   4185.94   4063.35    4140.93     249.780578   \n",
       "2017-08-21   4000.00   4042.11   3911.79    4025.04      93.860645   \n",
       "...              ...       ...       ...        ...            ...   \n",
       "2022-09-26  19095.35  19280.00  18967.59   19113.86  158965.193890   \n",
       "2022-09-27  20270.88  20346.75  18816.32   19073.46  252251.253370   \n",
       "2022-09-28  19072.62  19666.66  19012.00   19568.23  200169.659160   \n",
       "2022-09-29  19211.63  19645.52  18843.01   19505.64  171071.912750   \n",
       "2022-09-30  19298.59  20185.00  19234.88   19424.31  213236.956770   \n",
       "\n",
       "            open_night  high_night  low_night  close_night   volume_night  \n",
       "2017-08-17     4346.74     4371.52    4134.61      4331.71     936.635599  \n",
       "2017-08-18     4015.40     4184.69    3850.00      4095.00     410.331225  \n",
       "2017-08-19     4075.98     4211.08    4032.62      4108.47      80.363966  \n",
       "2017-08-20     4140.93     4171.62    3953.40      4000.00     672.070734  \n",
       "2017-08-21     4025.04     4070.49    3400.00      3934.01     648.538834  \n",
       "...                ...         ...        ...          ...            ...  \n",
       "2022-09-26    19114.59    20385.86   19070.05     20270.88  328507.595800  \n",
       "2022-09-27    19073.46    19238.28   18471.28     19072.62  329232.973480  \n",
       "2022-09-28    19569.61    19790.00   19127.81     19211.63  241818.837280  \n",
       "2022-09-29    19507.09    19700.00   19155.36     19297.19  229305.459690  \n",
       "2022-09-30    19424.31    19484.00   19240.44     19292.82   83897.506650  \n",
       "\n",
       "[1870 rows x 10 columns]"
      ]
     },
     "execution_count": 147,
     "metadata": {},
     "output_type": "execute_result"
    }
   ],
   "source": [
    "day_night"
   ]
  },
  {
   "cell_type": "code",
   "execution_count": 148,
   "metadata": {},
   "outputs": [],
   "source": [
    "features = [\"high_day\", \"low_day\", \"high_night\", \"low_night\"]\n",
    "categorical_features = []\n",
    "numerical_features = []\n",
    "for i in features:\n",
    "    day_night[f\"p{i}_touch\"] = np.where(\n",
    "        (day_night[i].shift() <= day_night[\"high_day\"]) & (day_night[i].shift() >= day_night[\"low_day\"]), 1, 0)\n",
    "        \n",
    "    day_night[f\"ret_distance_p{i}_open\"] = (day_night[\"open_day\"] - day_night[i])/day_night[i]\n",
    "    categorical_features.append(f\"p{i}_touch\")\n",
    "    numerical_features.append(f\"ret_distance_p{i}_open\")"
   ]
  },
  {
   "cell_type": "code",
   "execution_count": 117,
   "metadata": {},
   "outputs": [
    {
     "data": {
      "text/plain": [
       "['phigh_day_touch',\n",
       " 'plow_day_touch',\n",
       " 'phigh_night_touch',\n",
       " 'plow_night_touch',\n",
       " 'ret_distance_phigh_day_open',\n",
       " 'ret_distance_plow_day_open',\n",
       " 'ret_distance_phigh_night_open',\n",
       " 'ret_distance_plow_night_open']"
      ]
     },
     "execution_count": 117,
     "metadata": {},
     "output_type": "execute_result"
    }
   ],
   "source": [
    "categorical_features + numerical_features"
   ]
  },
  {
   "cell_type": "code",
   "execution_count": 149,
   "metadata": {},
   "outputs": [],
   "source": [
    "export_data = day_night[categorical_features + numerical_features]\n",
    "export_data.to_csv(\"BTC_feature_data.csv\")"
   ]
  }
 ],
 "metadata": {
  "kernelspec": {
   "display_name": "Python 3.9.13 ('ml-zoomcamp')",
   "language": "python",
   "name": "python3"
  },
  "language_info": {
   "codemirror_mode": {
    "name": "ipython",
    "version": 3
   },
   "file_extension": ".py",
   "mimetype": "text/x-python",
   "name": "python",
   "nbconvert_exporter": "python",
   "pygments_lexer": "ipython3",
   "version": "3.9.13"
  },
  "orig_nbformat": 4,
  "vscode": {
   "interpreter": {
    "hash": "b813f36ccc8aa9020514b6b4fc5912b01df7a3b0825391f42c6be2df928d6782"
   }
  }
 },
 "nbformat": 4,
 "nbformat_minor": 2
}
