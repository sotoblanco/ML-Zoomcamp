{
 "cells": [
  {
   "cell_type": "code",
   "execution_count": 1,
   "metadata": {},
   "outputs": [],
   "source": [
    "import pandas as pd"
   ]
  },
  {
   "cell_type": "code",
   "execution_count": 17,
   "metadata": {},
   "outputs": [],
   "source": [
    "df = pd.read_csv(\"BTC_feature_data.csv\", index_col=\"Unnamed: 0\", parse_dates=True)"
   ]
  },
  {
   "cell_type": "code",
   "execution_count": 6,
   "metadata": {},
   "outputs": [
    {
     "data": {
      "text/html": [
       "<div>\n",
       "<style scoped>\n",
       "    .dataframe tbody tr th:only-of-type {\n",
       "        vertical-align: middle;\n",
       "    }\n",
       "\n",
       "    .dataframe tbody tr th {\n",
       "        vertical-align: top;\n",
       "    }\n",
       "\n",
       "    .dataframe thead th {\n",
       "        text-align: right;\n",
       "    }\n",
       "</style>\n",
       "<table border=\"1\" class=\"dataframe\">\n",
       "  <thead>\n",
       "    <tr style=\"text-align: right;\">\n",
       "      <th></th>\n",
       "      <th>phigh_day_touch</th>\n",
       "      <th>plow_day_touch</th>\n",
       "      <th>phigh_night_touch</th>\n",
       "      <th>plow_night_touch</th>\n",
       "      <th>ret_distance_phigh_day_open</th>\n",
       "      <th>ret_distance_plow_day_open</th>\n",
       "      <th>ret_distance_phigh_night_open</th>\n",
       "      <th>ret_distance_plow_night_open</th>\n",
       "    </tr>\n",
       "  </thead>\n",
       "  <tbody>\n",
       "    <tr>\n",
       "      <th>2017-08-17</th>\n",
       "      <td>0</td>\n",
       "      <td>0</td>\n",
       "      <td>0</td>\n",
       "      <td>0</td>\n",
       "      <td>-0.003549</td>\n",
       "      <td>0.036527</td>\n",
       "      <td>-0.003967</td>\n",
       "      <td>0.053105</td>\n",
       "    </tr>\n",
       "    <tr>\n",
       "      <th>2017-08-18</th>\n",
       "      <td>0</td>\n",
       "      <td>1</td>\n",
       "      <td>0</td>\n",
       "      <td>1</td>\n",
       "      <td>-0.011031</td>\n",
       "      <td>0.079103</td>\n",
       "      <td>0.015688</td>\n",
       "      <td>0.103984</td>\n",
       "    </tr>\n",
       "    <tr>\n",
       "      <th>2017-08-19</th>\n",
       "      <td>0</td>\n",
       "      <td>0</td>\n",
       "      <td>0</td>\n",
       "      <td>0</td>\n",
       "      <td>-0.039757</td>\n",
       "      <td>0.002082</td>\n",
       "      <td>-0.053687</td>\n",
       "      <td>-0.011809</td>\n",
       "    </tr>\n",
       "    <tr>\n",
       "      <th>2017-08-20</th>\n",
       "      <td>1</td>\n",
       "      <td>0</td>\n",
       "      <td>0</td>\n",
       "      <td>0</td>\n",
       "      <td>-0.013015</td>\n",
       "      <td>0.016905</td>\n",
       "      <td>0.004034</td>\n",
       "      <td>0.056156</td>\n",
       "    </tr>\n",
       "    <tr>\n",
       "      <th>2017-08-21</th>\n",
       "      <td>0</td>\n",
       "      <td>1</td>\n",
       "      <td>0</td>\n",
       "      <td>1</td>\n",
       "      <td>-0.012406</td>\n",
       "      <td>0.060697</td>\n",
       "      <td>0.007486</td>\n",
       "      <td>0.182350</td>\n",
       "    </tr>\n",
       "  </tbody>\n",
       "</table>\n",
       "</div>"
      ],
      "text/plain": [
       "            phigh_day_touch  plow_day_touch  phigh_night_touch  \\\n",
       "2017-08-17                0               0                  0   \n",
       "2017-08-18                0               1                  0   \n",
       "2017-08-19                0               0                  0   \n",
       "2017-08-20                1               0                  0   \n",
       "2017-08-21                0               1                  0   \n",
       "\n",
       "            plow_night_touch  ret_distance_phigh_day_open  \\\n",
       "2017-08-17                 0                    -0.003549   \n",
       "2017-08-18                 1                    -0.011031   \n",
       "2017-08-19                 0                    -0.039757   \n",
       "2017-08-20                 0                    -0.013015   \n",
       "2017-08-21                 1                    -0.012406   \n",
       "\n",
       "            ret_distance_plow_day_open  ret_distance_phigh_night_open  \\\n",
       "2017-08-17                    0.036527                      -0.003967   \n",
       "2017-08-18                    0.079103                       0.015688   \n",
       "2017-08-19                    0.002082                      -0.053687   \n",
       "2017-08-20                    0.016905                       0.004034   \n",
       "2017-08-21                    0.060697                       0.007486   \n",
       "\n",
       "            ret_distance_plow_night_open  \n",
       "2017-08-17                      0.053105  \n",
       "2017-08-18                      0.103984  \n",
       "2017-08-19                     -0.011809  \n",
       "2017-08-20                      0.056156  \n",
       "2017-08-21                      0.182350  "
      ]
     },
     "execution_count": 6,
     "metadata": {},
     "output_type": "execute_result"
    }
   ],
   "source": [
    "df.head()"
   ]
  },
  {
   "cell_type": "code",
   "execution_count": 10,
   "metadata": {},
   "outputs": [
    {
     "data": {
      "text/plain": [
       "phigh_day_touch                  0\n",
       "plow_day_touch                   0\n",
       "phigh_night_touch                0\n",
       "plow_night_touch                 0\n",
       "ret_distance_phigh_day_open      0\n",
       "ret_distance_plow_day_open       0\n",
       "ret_distance_phigh_night_open    0\n",
       "ret_distance_plow_night_open     0\n",
       "dtype: int64"
      ]
     },
     "execution_count": 10,
     "metadata": {},
     "output_type": "execute_result"
    }
   ],
   "source": [
    "df.isnull().sum()"
   ]
  },
  {
   "cell_type": "markdown",
   "metadata": {},
   "source": [
    "Since we treat every row as an independent event we reset the index"
   ]
  },
  {
   "cell_type": "code",
   "execution_count": 18,
   "metadata": {},
   "outputs": [],
   "source": [
    "df.reset_index(inplace=True, drop=True)"
   ]
  },
  {
   "cell_type": "code",
   "execution_count": 20,
   "metadata": {},
   "outputs": [
    {
     "data": {
      "text/html": [
       "<div>\n",
       "<style scoped>\n",
       "    .dataframe tbody tr th:only-of-type {\n",
       "        vertical-align: middle;\n",
       "    }\n",
       "\n",
       "    .dataframe tbody tr th {\n",
       "        vertical-align: top;\n",
       "    }\n",
       "\n",
       "    .dataframe thead th {\n",
       "        text-align: right;\n",
       "    }\n",
       "</style>\n",
       "<table border=\"1\" class=\"dataframe\">\n",
       "  <thead>\n",
       "    <tr style=\"text-align: right;\">\n",
       "      <th></th>\n",
       "      <th>phigh_day_touch</th>\n",
       "      <th>plow_day_touch</th>\n",
       "      <th>phigh_night_touch</th>\n",
       "      <th>plow_night_touch</th>\n",
       "      <th>ret_distance_phigh_day_open</th>\n",
       "      <th>ret_distance_plow_day_open</th>\n",
       "      <th>ret_distance_phigh_night_open</th>\n",
       "      <th>ret_distance_plow_night_open</th>\n",
       "    </tr>\n",
       "  </thead>\n",
       "  <tbody>\n",
       "    <tr>\n",
       "      <th>0</th>\n",
       "      <td>0</td>\n",
       "      <td>0</td>\n",
       "      <td>0</td>\n",
       "      <td>0</td>\n",
       "      <td>-0.003549</td>\n",
       "      <td>0.036527</td>\n",
       "      <td>-0.003967</td>\n",
       "      <td>0.053105</td>\n",
       "    </tr>\n",
       "    <tr>\n",
       "      <th>1</th>\n",
       "      <td>0</td>\n",
       "      <td>1</td>\n",
       "      <td>0</td>\n",
       "      <td>1</td>\n",
       "      <td>-0.011031</td>\n",
       "      <td>0.079103</td>\n",
       "      <td>0.015688</td>\n",
       "      <td>0.103984</td>\n",
       "    </tr>\n",
       "  </tbody>\n",
       "</table>\n",
       "</div>"
      ],
      "text/plain": [
       "   phigh_day_touch  plow_day_touch  phigh_night_touch  plow_night_touch  \\\n",
       "0                0               0                  0                 0   \n",
       "1                0               1                  0                 1   \n",
       "\n",
       "   ret_distance_phigh_day_open  ret_distance_plow_day_open  \\\n",
       "0                    -0.003549                    0.036527   \n",
       "1                    -0.011031                    0.079103   \n",
       "\n",
       "   ret_distance_phigh_night_open  ret_distance_plow_night_open  \n",
       "0                      -0.003967                      0.053105  \n",
       "1                       0.015688                      0.103984  "
      ]
     },
     "execution_count": 20,
     "metadata": {},
     "output_type": "execute_result"
    }
   ],
   "source": [
    "df.head(2)"
   ]
  },
  {
   "cell_type": "code",
   "execution_count": 11,
   "metadata": {},
   "outputs": [
    {
     "name": "stdout",
     "output_type": "stream",
     "text": [
      "phigh_day_touch\n",
      "[0 1]\n",
      "2\n",
      "\n",
      "plow_day_touch\n",
      "[0 1]\n",
      "2\n",
      "\n",
      "phigh_night_touch\n",
      "[0 1]\n",
      "2\n",
      "\n",
      "plow_night_touch\n",
      "[0 1]\n",
      "2\n",
      "\n",
      "ret_distance_phigh_day_open\n",
      "[-0.00354945 -0.01103135 -0.03975672 -0.013015   -0.01240637]\n",
      "1875\n",
      "\n",
      "ret_distance_plow_day_open\n",
      "[0.0365269  0.07910337 0.00208212 0.01690468 0.06069737]\n",
      "1871\n",
      "\n",
      "ret_distance_phigh_night_open\n",
      "[-0.00396658  0.01568814 -0.05368694  0.00403416  0.00748599]\n",
      "1875\n",
      "\n",
      "ret_distance_plow_night_open\n",
      "[ 0.05310537  0.10398442 -0.0118087   0.05615588  0.18235   ]\n",
      "1875\n",
      "\n"
     ]
    }
   ],
   "source": [
    "for col in df.columns:\n",
    "\tprint(col)\n",
    "\tprint(df[col].unique()[:5])\n",
    "\tprint(df[col].nunique())\n",
    "\tprint()"
   ]
  },
  {
   "cell_type": "code",
   "execution_count": 58,
   "metadata": {},
   "outputs": [],
   "source": [
    "from sklearn.model_selection import train_test_split\n",
    "df_full_train, df_test = train_test_split(df, test_size=0.2, random_state=1)\n",
    "df_train, df_val = train_test_split(df_full_train, test_size=0.25, random_state=1)\n",
    "\n",
    "df_train = df_train.reset_index(drop=True)\n",
    "df_val = df_val.reset_index(drop=True)\n",
    "df_test = df_test.reset_index(drop=True)"
   ]
  },
  {
   "cell_type": "code",
   "execution_count": 64,
   "metadata": {},
   "outputs": [],
   "source": [
    "categorical = [\"phigh_day_touch\", \"plow_day_touch\",\"phigh_night_touch\", \"plow_night_touch\"]\n",
    "\n",
    "numerical = [\"ret_distance_phigh_day_open\", \"ret_distance_plow_day_open\", \n",
    "            \"ret_distance_phigh_night_open\", \"ret_distance_plow_night_open\"]"
   ]
  },
  {
   "cell_type": "code",
   "execution_count": 23,
   "metadata": {},
   "outputs": [
    {
     "name": "stdout",
     "output_type": "stream",
     "text": [
      "0    0.686222\n",
      "1    0.313778\n",
      "Name: phigh_day_touch, dtype: float64\n",
      "0    0.72\n",
      "1    0.28\n",
      "Name: plow_day_touch, dtype: float64\n",
      "0    0.623111\n",
      "1    0.376889\n",
      "Name: phigh_night_touch, dtype: float64\n",
      "0    0.702222\n",
      "1    0.297778\n",
      "Name: plow_night_touch, dtype: float64\n"
     ]
    }
   ],
   "source": [
    "for c in categorical:\n",
    "    print(df_train[c].value_counts(normalize=True))"
   ]
  },
  {
   "cell_type": "code",
   "execution_count": 65,
   "metadata": {},
   "outputs": [
    {
     "data": {
      "text/html": [
       "<div>\n",
       "<style scoped>\n",
       "    .dataframe tbody tr th:only-of-type {\n",
       "        vertical-align: middle;\n",
       "    }\n",
       "\n",
       "    .dataframe tbody tr th {\n",
       "        vertical-align: top;\n",
       "    }\n",
       "\n",
       "    .dataframe thead th {\n",
       "        text-align: right;\n",
       "    }\n",
       "</style>\n",
       "<table border=\"1\" class=\"dataframe\">\n",
       "  <thead>\n",
       "    <tr style=\"text-align: right;\">\n",
       "      <th></th>\n",
       "      <th>ret_distance_phigh_day_open</th>\n",
       "      <th>ret_distance_plow_day_open</th>\n",
       "      <th>ret_distance_phigh_night_open</th>\n",
       "      <th>ret_distance_plow_night_open</th>\n",
       "    </tr>\n",
       "  </thead>\n",
       "  <tbody>\n",
       "    <tr>\n",
       "      <th>count</th>\n",
       "      <td>1125.000000</td>\n",
       "      <td>1125.000000</td>\n",
       "      <td>1125.000000</td>\n",
       "      <td>1125.000000</td>\n",
       "    </tr>\n",
       "    <tr>\n",
       "      <th>mean</th>\n",
       "      <td>-0.016181</td>\n",
       "      <td>0.018038</td>\n",
       "      <td>-0.022435</td>\n",
       "      <td>0.026159</td>\n",
       "    </tr>\n",
       "    <tr>\n",
       "      <th>std</th>\n",
       "      <td>0.017292</td>\n",
       "      <td>0.023812</td>\n",
       "      <td>0.030991</td>\n",
       "      <td>0.042440</td>\n",
       "    </tr>\n",
       "    <tr>\n",
       "      <th>min</th>\n",
       "      <td>-0.142178</td>\n",
       "      <td>0.000000</td>\n",
       "      <td>-0.190536</td>\n",
       "      <td>-0.088098</td>\n",
       "    </tr>\n",
       "    <tr>\n",
       "      <th>25%</th>\n",
       "      <td>-0.020692</td>\n",
       "      <td>0.005151</td>\n",
       "      <td>-0.036714</td>\n",
       "      <td>0.004089</td>\n",
       "    </tr>\n",
       "    <tr>\n",
       "      <th>50%</th>\n",
       "      <td>-0.011082</td>\n",
       "      <td>0.010537</td>\n",
       "      <td>-0.016510</td>\n",
       "      <td>0.015313</td>\n",
       "    </tr>\n",
       "    <tr>\n",
       "      <th>75%</th>\n",
       "      <td>-0.005486</td>\n",
       "      <td>0.021630</td>\n",
       "      <td>-0.004590</td>\n",
       "      <td>0.037010</td>\n",
       "    </tr>\n",
       "    <tr>\n",
       "      <th>max</th>\n",
       "      <td>-0.000024</td>\n",
       "      <td>0.285116</td>\n",
       "      <td>0.088499</td>\n",
       "      <td>0.399360</td>\n",
       "    </tr>\n",
       "  </tbody>\n",
       "</table>\n",
       "</div>"
      ],
      "text/plain": [
       "       ret_distance_phigh_day_open  ret_distance_plow_day_open  \\\n",
       "count                  1125.000000                 1125.000000   \n",
       "mean                     -0.016181                    0.018038   \n",
       "std                       0.017292                    0.023812   \n",
       "min                      -0.142178                    0.000000   \n",
       "25%                      -0.020692                    0.005151   \n",
       "50%                      -0.011082                    0.010537   \n",
       "75%                      -0.005486                    0.021630   \n",
       "max                      -0.000024                    0.285116   \n",
       "\n",
       "       ret_distance_phigh_night_open  ret_distance_plow_night_open  \n",
       "count                    1125.000000                   1125.000000  \n",
       "mean                       -0.022435                      0.026159  \n",
       "std                         0.030991                      0.042440  \n",
       "min                        -0.190536                     -0.088098  \n",
       "25%                        -0.036714                      0.004089  \n",
       "50%                        -0.016510                      0.015313  \n",
       "75%                        -0.004590                      0.037010  \n",
       "max                         0.088499                      0.399360  "
      ]
     },
     "execution_count": 65,
     "metadata": {},
     "output_type": "execute_result"
    }
   ],
   "source": [
    "df_train[numerical].describe()"
   ]
  },
  {
   "cell_type": "code",
   "execution_count": 57,
   "metadata": {},
   "outputs": [
    {
     "data": {
      "text/plain": [
       "<AxesSubplot:xlabel='ret_distance_phigh_day_open', ylabel='Count'>"
      ]
     },
     "execution_count": 57,
     "metadata": {},
     "output_type": "execute_result"
    },
    {
     "data": {
      "image/png": "[encoded data removed]",
      "text/plain": [
       "<Figure size 640x480 with 1 Axes>"
      ]
     },
     "metadata": {},
     "output_type": "display_data"
    }
   ],
   "source": [
    "import seaborn as sns\n",
    "import numpy as np\n",
    "\n",
    "sns.histplot(df_train.ret_distance_phigh_day_open, bins=50)"
   ]
  },
  {
   "cell_type": "code",
   "execution_count": 36,
   "metadata": {},
   "outputs": [
    {
     "data": {
      "text/plain": [
       "<AxesSubplot:xlabel='ret_distance_plow_day_open', ylabel='Count'>"
      ]
     },
     "execution_count": 36,
     "metadata": {},
     "output_type": "execute_result"
    },
    {
     "data": {
      "image/png": "[encoded data removed]",
      "text/plain": [
       "<Figure size 640x480 with 1 Axes>"
      ]
     },
     "metadata": {},
     "output_type": "display_data"
    }
   ],
   "source": [
    "sns.histplot(df_train.ret_distance_plow_day_open, bins=50)"
   ]
  },
  {
   "cell_type": "code",
   "execution_count": 37,
   "metadata": {},
   "outputs": [
    {
     "data": {
      "text/plain": [
       "<AxesSubplot:xlabel='ret_distance_phigh_night_open', ylabel='Count'>"
      ]
     },
     "execution_count": 37,
     "metadata": {},
     "output_type": "execute_result"
    },
    {
     "data": {
      "image/png": "[encoded data removed]",
      "text/plain": [
       "<Figure size 640x480 with 1 Axes>"
      ]
     },
     "metadata": {},
     "output_type": "display_data"
    }
   ],
   "source": [
    "sns.histplot(df_train.ret_distance_phigh_night_open, bins=50)"
   ]
  },
  {
   "cell_type": "code",
   "execution_count": 38,
   "metadata": {},
   "outputs": [
    {
     "data": {
      "text/plain": [
       "<AxesSubplot:xlabel='ret_distance_plow_night_open', ylabel='Count'>"
      ]
     },
     "execution_count": 38,
     "metadata": {},
     "output_type": "execute_result"
    },
    {
     "data": {
      "image/png": "[encoded data removed]",
      "text/plain": [
       "<Figure size 640x480 with 1 Axes>"
      ]
     },
     "metadata": {},
     "output_type": "display_data"
    }
   ],
   "source": [
    "sns.histplot(df_train.ret_distance_plow_night_open, bins=50)"
   ]
  },
  {
   "cell_type": "code",
   "execution_count": 73,
   "metadata": {},
   "outputs": [],
   "source": [
    "import pickle\n",
    "import pandas as pd\n",
    "import numpy as np\n",
    "\n",
    "from sklearn.model_selection import train_test_split\n",
    "from sklearn.feature_extraction import DictVectorizer\n",
    "from sklearn.linear_model import LogisticRegression\n",
    "from sklearn.model_selection import KFold\n",
    "from sklearn.metrics import roc_auc_score"
   ]
  },
  {
   "cell_type": "code",
   "execution_count": 74,
   "metadata": {},
   "outputs": [],
   "source": [
    "# Training\n",
    "\n",
    "def train(df_train, y_train, C=1.0):\n",
    "    dicts = df_train[numerical].to_dict(orient='records')\n",
    "\n",
    "    dv = DictVectorizer(sparse=False)\n",
    "    X_train = dv.fit_transform(dicts)\n",
    "\n",
    "    model = LogisticRegression(solver='liblinear', C=C, max_iter=1000)\n",
    "    model.fit(X_train, y_train)\n",
    "\n",
    "    return dv, model\n",
    "\n",
    "def predict(df, dv, model):\n",
    "    dicts = df[numerical].to_dict(orient='records')\n",
    "\n",
    "    X = dv.transform(dicts)\n",
    "    y_pred = model.predict_proba(X)[:, 1]\n",
    "\n",
    "    return y_pred"
   ]
  },
  {
   "cell_type": "code",
   "execution_count": 96,
   "metadata": {},
   "outputs": [],
   "source": [
    "# validation\n",
    "def cv_train(df_train, df_val, y_feature):\n",
    "    scores = []\n",
    "    for C in [0.01, 0.1, 1, 10]:\n",
    "        print(f\"Doing validation with C={C}\")\n",
    "\n",
    "        kfold = KFold(n_splits=5, shuffle=True, random_state=1)\n",
    "        fold = 0\n",
    "        for train_idx, val_idx in kfold.split(df_full_train):\n",
    "            df_train = df_full_train.iloc[train_idx]\n",
    "            df_val = df_full_train.iloc[val_idx]\n",
    "\n",
    "            y_train = df_train[f\"{y_feature}\"].values\n",
    "            y_val = df_val[f\"{y_feature}\"].values\n",
    "\n",
    "            dv, model = train(df_train, y_train, C=C)\n",
    "            y_pred = predict(df_val, dv, model)\n",
    "\n",
    "            auc = roc_auc_score(y_val, y_pred)\n",
    "            scores.append(auc)\n",
    "\n",
    "            print(f'auc on fold {fold} is {auc}')\n",
    "            fold += 1\n",
    "            \n",
    "    return scores\n",
    "\n"
   ]
  },
  {
   "cell_type": "code",
   "execution_count": 94,
   "metadata": {},
   "outputs": [],
   "source": [
    "def val_results(scores, y_feature, C):\n",
    "\n",
    "    print(\"Validation results:\")\n",
    "    print('C=%s %.3f +- %.3f' % (C, np.mean(scores), np.std(scores)))\n",
    "\n",
    "    dv, model = train(df_full_train, df_full_train[y_feature].values, C=C)\n",
    "    y_pred = predict(df_test, dv, model)\n",
    "\n",
    "    y_test = df_test[y_feature].values\n",
    "    auc = roc_auc_score(y_test, y_pred)\n",
    "\n",
    "    print(f'auc={auc}')"
   ]
  },
  {
   "cell_type": "code",
   "execution_count": 98,
   "metadata": {},
   "outputs": [
    {
     "name": "stdout",
     "output_type": "stream",
     "text": [
      "Doing validation with C=0.01\n",
      "auc on fold 0 is 0.5966444270015699\n",
      "auc on fold 1 is 0.5953689167974883\n",
      "auc on fold 2 is 0.559138692803819\n",
      "auc on fold 3 is 0.5779860482453805\n",
      "auc on fold 4 is 0.5737792214707919\n",
      "Doing validation with C=0.1\n",
      "auc on fold 0 is 0.5864894034536892\n",
      "auc on fold 1 is 0.5987048665620094\n",
      "auc on fold 2 is 0.5378599360113757\n",
      "auc on fold 3 is 0.5425741519782736\n",
      "auc on fold 4 is 0.5840566590340275\n",
      "Doing validation with C=1\n",
      "auc on fold 0 is 0.5895310047095761\n",
      "auc on fold 1 is 0.6019917582417582\n",
      "auc on fold 2 is 0.54126250571327\n",
      "auc on fold 3 is 0.5437456733585387\n",
      "auc on fold 4 is 0.5868257095691997\n",
      "Doing validation with C=10\n",
      "auc on fold 0 is 0.6054748822605965\n",
      "auc on fold 1 is 0.6179846938775511\n",
      "auc on fold 2 is 0.5805190188410949\n",
      "auc on fold 3 is 0.5644070504286703\n",
      "auc on fold 4 is 0.6057830555407636\n"
     ]
    }
   ],
   "source": [
    "scores_m1 = cv_train(df_train, df_val, y_feature=categorical[0])"
   ]
  },
  {
   "cell_type": "code",
   "execution_count": 99,
   "metadata": {},
   "outputs": [
    {
     "name": "stdout",
     "output_type": "stream",
     "text": [
      "Doing validation with C=0.01\n",
      "auc on fold 0 is 0.5685938392810763\n",
      "auc on fold 1 is 0.6225941002060404\n",
      "auc on fold 2 is 0.5705824820691154\n",
      "auc on fold 3 is 0.5293987007939591\n",
      "auc on fold 4 is 0.5989191729323308\n",
      "Doing validation with C=0.1\n",
      "auc on fold 0 is 0.5685418939275881\n",
      "auc on fold 1 is 0.6288255691240766\n",
      "auc on fold 2 is 0.5649315366224733\n",
      "auc on fold 3 is 0.5402254178002331\n",
      "auc on fold 4 is 0.5885220864661653\n",
      "Doing validation with C=1\n",
      "auc on fold 0 is 0.5798140356345125\n",
      "auc on fold 1 is 0.6336499321573948\n",
      "auc on fold 2 is 0.5745490110845469\n",
      "auc on fold 3 is 0.5501637887957359\n",
      "auc on fold 4 is 0.5994478383458646\n",
      "Doing validation with C=10\n",
      "auc on fold 0 is 0.6212144823645525\n",
      "auc on fold 1 is 0.6305341976983768\n",
      "auc on fold 2 is 0.6245924798956749\n",
      "auc on fold 3 is 0.5993559491421909\n",
      "auc on fold 4 is 0.648672462406015\n"
     ]
    }
   ],
   "source": [
    "scores_m2 = cv_train(df_train, df_val, y_feature=categorical[1])"
   ]
  },
  {
   "cell_type": "code",
   "execution_count": 100,
   "metadata": {},
   "outputs": [
    {
     "name": "stdout",
     "output_type": "stream",
     "text": [
      "Doing validation with C=0.01\n",
      "auc on fold 0 is 0.7627797067901235\n",
      "auc on fold 1 is 0.715496368038741\n",
      "auc on fold 2 is 0.6678381458966565\n",
      "auc on fold 3 is 0.7635701102645401\n",
      "auc on fold 4 is 0.7083272283272283\n",
      "Doing validation with C=0.1\n",
      "auc on fold 0 is 0.7686631944444444\n",
      "auc on fold 1 is 0.7131681877444589\n",
      "auc on fold 2 is 0.665036094224924\n",
      "auc on fold 3 is 0.768917703847428\n",
      "auc on fold 4 is 0.708962148962149\n",
      "Doing validation with C=1\n",
      "auc on fold 0 is 0.7767168209876544\n",
      "auc on fold 1 is 0.718848947662507\n",
      "auc on fold 2 is 0.6708776595744681\n",
      "auc on fold 3 is 0.774691211963466\n",
      "auc on fold 4 is 0.714969474969475\n",
      "Doing validation with C=10\n",
      "auc on fold 0 is 0.8082079475308642\n",
      "auc on fold 1 is 0.7520953622648539\n",
      "auc on fold 2 is 0.7104863221884498\n",
      "auc on fold 3 is 0.7957503194358998\n",
      "auc on fold 4 is 0.7440293040293041\n"
     ]
    }
   ],
   "source": [
    "scores_m3 = cv_train(df_train, df_val, y_feature=categorical[2])"
   ]
  },
  {
   "cell_type": "code",
   "execution_count": 101,
   "metadata": {},
   "outputs": [
    {
     "name": "stdout",
     "output_type": "stream",
     "text": [
      "Doing validation with C=0.01\n",
      "auc on fold 0 is 0.7498978758169934\n",
      "auc on fold 1 is 0.7328248130935543\n",
      "auc on fold 2 is 0.7734920634920636\n",
      "auc on fold 3 is 0.7921693121693122\n",
      "auc on fold 4 is 0.7365741776683822\n",
      "Doing validation with C=0.1\n",
      "auc on fold 0 is 0.7495404411764706\n",
      "auc on fold 1 is 0.7438371388159224\n",
      "auc on fold 2 is 0.783015873015873\n",
      "auc on fold 3 is 0.7902645502645502\n",
      "auc on fold 4 is 0.7406578652942493\n",
      "Doing validation with C=1\n",
      "auc on fold 0 is 0.7581699346405228\n",
      "auc on fold 1 is 0.754192766215397\n",
      "auc on fold 2 is 0.7935449735449736\n",
      "auc on fold 3 is 0.797883597883598\n",
      "auc on fold 4 is 0.7492727679570373\n",
      "Doing validation with C=10\n",
      "auc on fold 0 is 0.8034109477124182\n",
      "auc on fold 1 is 0.7993028894726206\n",
      "auc on fold 2 is 0.8368253968253969\n",
      "auc on fold 3 is 0.8316931216931216\n",
      "auc on fold 4 is 0.7906690534795257\n"
     ]
    }
   ],
   "source": [
    "scores_m4 = cv_train(df_train, df_val, y_feature=categorical[3])"
   ]
  },
  {
   "cell_type": "markdown",
   "metadata": {},
   "source": [
    "All models perform better with C = 10"
   ]
  },
  {
   "cell_type": "code",
   "execution_count": 106,
   "metadata": {},
   "outputs": [
    {
     "name": "stdout",
     "output_type": "stream",
     "text": [
      "phigh_day_touch\n",
      "Validation results:\n",
      "C=10 0.580 +- 0.023\n",
      "auc=0.5715870135107884\n",
      "plow_day_touch\n",
      "Validation results:\n",
      "C=10 0.592 +- 0.033\n",
      "auc=0.6297645211930927\n",
      "phigh_night_touch\n",
      "Validation results:\n",
      "C=10 0.735 +- 0.041\n",
      "auc=0.7347416413373861\n",
      "plow_night_touch\n",
      "Validation results:\n",
      "C=10 0.775 +- 0.030\n",
      "auc=0.8262493210211841\n"
     ]
    }
   ],
   "source": [
    "print(categorical[0])\n",
    "val_results(scores_m1, categorical[0], 10)\n",
    "print(categorical[1])\n",
    "val_results(scores_m2, categorical[1], 10)\n",
    "print(categorical[2])\n",
    "val_results(scores_m3, categorical[2], 10)\n",
    "print(categorical[3])\n",
    "val_results(scores_m4, categorical[3], 10)"
   ]
  },
  {
   "cell_type": "code",
   "execution_count": 108,
   "metadata": {},
   "outputs": [],
   "source": [
    "for i in categorical:\n",
    "    dv, model = train(df_full_train, df_full_train[i].values, C=10)\n",
    "    output_file = f'model_{i}_C=10.bin'\n",
    "\n",
    "    with open(output_file, 'wb') as f_out:\n",
    "        pickle.dump((dv, model), f_out)"
   ]
  }
 ],
 "metadata": {
  "kernelspec": {
   "display_name": "Python 3.9.13 ('ml-zoomcamp')",
   "language": "python",
   "name": "python3"
  },
  "language_info": {
   "codemirror_mode": {
    "name": "ipython",
    "version": 3
   },
   "file_extension": ".py",
   "mimetype": "text/x-python",
   "name": "python",
   "nbconvert_exporter": "python",
   "pygments_lexer": "ipython3",
   "version": "3.9.13"
  },
  "orig_nbformat": 4,
  "vscode": {
   "interpreter": {
    "hash": "b813f36ccc8aa9020514b6b4fc5912b01df7a3b0825391f42c6be2df928d6782"
   }
  }
 },
 "nbformat": 4,
 "nbformat_minor": 2
}
